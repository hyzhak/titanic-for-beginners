{
  "cells": [
    {
      "metadata": {
        "_cell_guid": "093f9727-e09a-470c-a7b9-552bc89cea45",
        "_uuid": "3f388a9d660c32cab96fde199fdb63ec99ceae2d"
      },
      "cell_type": "markdown",
      "source": "# Titanic for beginners\nit is basic introduction to Kaggle.\n\n## Workflow\n1. Import Necessary Libraries\n2. Acquire training and testing data.\n3. Analyze, Visualize data\n  1. Outlets (errors or possibly innacurate values) ?\n  2. Create new feature?\n4. Clearning data\n5. Choosing the Best Model\n6. Creating Submission File"
    },
    {
      "metadata": {
        "_cell_guid": "301ad18e-8d8e-41d7-9b0f-ca911173e895",
        "_uuid": "fb88b7c3f081c0c1252206f87f9a10611395f470"
      },
      "cell_type": "markdown",
      "source": "## 1. Import Necessary Libraries"
    },
    {
      "metadata": {
        "_cell_guid": "da15ab30-adc6-4b06-8dbc-3ec73e0a4477",
        "collapsed": true,
        "_uuid": "9608c73358c926c608438235067017fa75293761",
        "trusted": true
      },
      "cell_type": "code",
      "source": "import matplotlib.pyplot as plt\nimport numpy as np\nimport pandas as pd\nfrom pprint import pprint\nimport seaborn as sns\nimport sklearn\nfrom sklearn import ensemble, linear_model, naive_bayes, neighbors, svm, tree\nimport subprocess\n\n%matplotlib inline",
      "execution_count": 1,
      "outputs": []
    },
    {
      "metadata": {
        "_cell_guid": "15827b55-89e5-4e9d-a6b9-b770e8a831cf",
        "_uuid": "3f1fa120cf078e86592b861c4a03669f797a8eee"
      },
      "cell_type": "markdown",
      "source": "## 2. Acquire training and testing data"
    },
    {
      "metadata": {
        "_cell_guid": "49c97ff1-709e-4829-ad0a-687cc0077a13",
        "collapsed": true,
        "_uuid": "4ebed5528fff5db1901d452e0c9df8e9be8d1616",
        "trusted": true
      },
      "cell_type": "code",
      "source": "train_df = pd.read_csv('../input/train.csv')\ntest_df = pd.read_csv('../input/test.csv')\ncombine = [train_df, test_df]",
      "execution_count": 2,
      "outputs": []
    },
    {
      "metadata": {
        "_cell_guid": "48b4528e-c606-4ae8-a357-3322f5cba3ac",
        "_uuid": "92a4f6e4a955417fd0a75c2853ae0ed5083ce506"
      },
      "cell_type": "markdown",
      "source": "## 3. Analyze, Visualize data\n### Take a look on data"
    },
    {
      "metadata": {
        "_cell_guid": "2f591810-72ca-4a99-b7fa-cbc2edcebeea",
        "scrolled": true,
        "_uuid": "8dee81ffb59783930bb5eedf054d3cc7af7d7cd7",
        "trusted": true
      },
      "cell_type": "code",
      "source": "train_df.head()",
      "execution_count": 3,
      "outputs": [
        {
          "output_type": "execute_result",
          "execution_count": 3,
          "data": {
            "text/plain": "   PassengerId  Survived  Pclass  \\\n0            1         0       3   \n1            2         1       1   \n2            3         1       3   \n3            4         1       1   \n4            5         0       3   \n\n                                                Name     Sex   Age  SibSp  \\\n0                            Braund, Mr. Owen Harris    male  22.0      1   \n1  Cumings, Mrs. John Bradley (Florence Briggs Th...  female  38.0      1   \n2                             Heikkinen, Miss. Laina  female  26.0      0   \n3       Futrelle, Mrs. Jacques Heath (Lily May Peel)  female  35.0      1   \n4                           Allen, Mr. William Henry    male  35.0      0   \n\n   Parch            Ticket     Fare Cabin Embarked  \n0      0         A/5 21171   7.2500   NaN        S  \n1      0          PC 17599  71.2833   C85        C  \n2      0  STON/O2. 3101282   7.9250   NaN        S  \n3      0            113803  53.1000  C123        S  \n4      0            373450   8.0500   NaN        S  ",
            "text/html": "<div>\n<style>\n    .dataframe thead tr:only-child th {\n        text-align: right;\n    }\n\n    .dataframe thead th {\n        text-align: left;\n    }\n\n    .dataframe tbody tr th {\n        vertical-align: top;\n    }\n</style>\n<table border=\"1\" class=\"dataframe\">\n  <thead>\n    <tr style=\"text-align: right;\">\n      <th></th>\n      <th>PassengerId</th>\n      <th>Survived</th>\n      <th>Pclass</th>\n      <th>Name</th>\n      <th>Sex</th>\n      <th>Age</th>\n      <th>SibSp</th>\n      <th>Parch</th>\n      <th>Ticket</th>\n      <th>Fare</th>\n      <th>Cabin</th>\n      <th>Embarked</th>\n    </tr>\n  </thead>\n  <tbody>\n    <tr>\n      <th>0</th>\n      <td>1</td>\n      <td>0</td>\n      <td>3</td>\n      <td>Braund, Mr. Owen Harris</td>\n      <td>male</td>\n      <td>22.0</td>\n      <td>1</td>\n      <td>0</td>\n      <td>A/5 21171</td>\n      <td>7.2500</td>\n      <td>NaN</td>\n      <td>S</td>\n    </tr>\n    <tr>\n      <th>1</th>\n      <td>2</td>\n      <td>1</td>\n      <td>1</td>\n      <td>Cumings, Mrs. John Bradley (Florence Briggs Th...</td>\n      <td>female</td>\n      <td>38.0</td>\n      <td>1</td>\n      <td>0</td>\n      <td>PC 17599</td>\n      <td>71.2833</td>\n      <td>C85</td>\n      <td>C</td>\n    </tr>\n    <tr>\n      <th>2</th>\n      <td>3</td>\n      <td>1</td>\n      <td>3</td>\n      <td>Heikkinen, Miss. Laina</td>\n      <td>female</td>\n      <td>26.0</td>\n      <td>0</td>\n      <td>0</td>\n      <td>STON/O2. 3101282</td>\n      <td>7.9250</td>\n      <td>NaN</td>\n      <td>S</td>\n    </tr>\n    <tr>\n      <th>3</th>\n      <td>4</td>\n      <td>1</td>\n      <td>1</td>\n      <td>Futrelle, Mrs. Jacques Heath (Lily May Peel)</td>\n      <td>female</td>\n      <td>35.0</td>\n      <td>1</td>\n      <td>0</td>\n      <td>113803</td>\n      <td>53.1000</td>\n      <td>C123</td>\n      <td>S</td>\n    </tr>\n    <tr>\n      <th>4</th>\n      <td>5</td>\n      <td>0</td>\n      <td>3</td>\n      <td>Allen, Mr. William Henry</td>\n      <td>male</td>\n      <td>35.0</td>\n      <td>0</td>\n      <td>0</td>\n      <td>373450</td>\n      <td>8.0500</td>\n      <td>NaN</td>\n      <td>S</td>\n    </tr>\n  </tbody>\n</table>\n</div>"
          },
          "metadata": {}
        }
      ]
    },
    {
      "metadata": {
        "_cell_guid": "17812c02-54f8-4e05-9949-74c8b73be885",
        "_uuid": "992f9ee63d71523752712496c6d9908468ff2936",
        "trusted": true
      },
      "cell_type": "code",
      "source": "train_df.tail()",
      "execution_count": 4,
      "outputs": [
        {
          "output_type": "execute_result",
          "execution_count": 4,
          "data": {
            "text/plain": "     PassengerId  Survived  Pclass                                      Name  \\\n886          887         0       2                     Montvila, Rev. Juozas   \n887          888         1       1              Graham, Miss. Margaret Edith   \n888          889         0       3  Johnston, Miss. Catherine Helen \"Carrie\"   \n889          890         1       1                     Behr, Mr. Karl Howell   \n890          891         0       3                       Dooley, Mr. Patrick   \n\n        Sex   Age  SibSp  Parch      Ticket   Fare Cabin Embarked  \n886    male  27.0      0      0      211536  13.00   NaN        S  \n887  female  19.0      0      0      112053  30.00   B42        S  \n888  female   NaN      1      2  W./C. 6607  23.45   NaN        S  \n889    male  26.0      0      0      111369  30.00  C148        C  \n890    male  32.0      0      0      370376   7.75   NaN        Q  ",
            "text/html": "<div>\n<style>\n    .dataframe thead tr:only-child th {\n        text-align: right;\n    }\n\n    .dataframe thead th {\n        text-align: left;\n    }\n\n    .dataframe tbody tr th {\n        vertical-align: top;\n    }\n</style>\n<table border=\"1\" class=\"dataframe\">\n  <thead>\n    <tr style=\"text-align: right;\">\n      <th></th>\n      <th>PassengerId</th>\n      <th>Survived</th>\n      <th>Pclass</th>\n      <th>Name</th>\n      <th>Sex</th>\n      <th>Age</th>\n      <th>SibSp</th>\n      <th>Parch</th>\n      <th>Ticket</th>\n      <th>Fare</th>\n      <th>Cabin</th>\n      <th>Embarked</th>\n    </tr>\n  </thead>\n  <tbody>\n    <tr>\n      <th>886</th>\n      <td>887</td>\n      <td>0</td>\n      <td>2</td>\n      <td>Montvila, Rev. Juozas</td>\n      <td>male</td>\n      <td>27.0</td>\n      <td>0</td>\n      <td>0</td>\n      <td>211536</td>\n      <td>13.00</td>\n      <td>NaN</td>\n      <td>S</td>\n    </tr>\n    <tr>\n      <th>887</th>\n      <td>888</td>\n      <td>1</td>\n      <td>1</td>\n      <td>Graham, Miss. Margaret Edith</td>\n      <td>female</td>\n      <td>19.0</td>\n      <td>0</td>\n      <td>0</td>\n      <td>112053</td>\n      <td>30.00</td>\n      <td>B42</td>\n      <td>S</td>\n    </tr>\n    <tr>\n      <th>888</th>\n      <td>889</td>\n      <td>0</td>\n      <td>3</td>\n      <td>Johnston, Miss. Catherine Helen \"Carrie\"</td>\n      <td>female</td>\n      <td>NaN</td>\n      <td>1</td>\n      <td>2</td>\n      <td>W./C. 6607</td>\n      <td>23.45</td>\n      <td>NaN</td>\n      <td>S</td>\n    </tr>\n    <tr>\n      <th>889</th>\n      <td>890</td>\n      <td>1</td>\n      <td>1</td>\n      <td>Behr, Mr. Karl Howell</td>\n      <td>male</td>\n      <td>26.0</td>\n      <td>0</td>\n      <td>0</td>\n      <td>111369</td>\n      <td>30.00</td>\n      <td>C148</td>\n      <td>C</td>\n    </tr>\n    <tr>\n      <th>890</th>\n      <td>891</td>\n      <td>0</td>\n      <td>3</td>\n      <td>Dooley, Mr. Patrick</td>\n      <td>male</td>\n      <td>32.0</td>\n      <td>0</td>\n      <td>0</td>\n      <td>370376</td>\n      <td>7.75</td>\n      <td>NaN</td>\n      <td>Q</td>\n    </tr>\n  </tbody>\n</table>\n</div>"
          },
          "metadata": {}
        }
      ]
    },
    {
      "metadata": {
        "_cell_guid": "61361e02-a5e0-4da4-89f8-52e4b93534ac",
        "collapsed": true,
        "_uuid": "1d1116e9bf6bc3c253232070d66fc93c9ce94778"
      },
      "cell_type": "markdown",
      "source": "### Analyze features\n- **Which features are categorical?** - Survived, Sex, and Embarked. Ordinal: Pclass.\n- **Which features are numerical?** - Age, Fare. Discrete: SibSp, Parch.\n- **Which features are mixed data types?** - Ticket is a mix of numeric and alphanumeric data types. Cabin is alphanumeric.\n- **Which features may contain errors or typos?** - Name feature may contain errors or typos as there are several ways used to describe a name including titles, round brackets, and quotes used for alternative or short names.\n- **Which features contain blank, null or empty values?** - Cabin > Age > Embarked features contain a number of null values in that order for the training dataset. Cabin > Age are incomplete in case of test dataset.\n- **What are the data types for various features?** - Seven features are integer or floats. Six in case of test dataset. Five features are strings (object).\n- **What is the distribution of numerical feature values across the samples?**\n  - Total samples are 891 or 40\\% of the actual number of passengers on board the Titanic (2,224).\n  - Survived is a categorical feature with 0 or 1 values.\n  - Around 38\\% samples survived representative of the actual survival rate at 32%.\n  - Most passengers `(> 75\\%)` did not travel with parents or children.\n  - Nearly 30\\% of the passengers had siblings and/or spouse aboard.\n  - Fares varied significantly with few passengers `(<1\\%)` paying as high as $512.\n  - Few elderly passengers (<1\\%) within age range 65-80.\n  - TODO: *distribution of age and distribution survived index by age*\n  - TODO: *what is survived index of single persons (without children, parents, siblings or spouse)?*\n  - TODO: *what is distribution of age of single persons?*\n  - TODO: *what is survived index of not single persons which has more stronger relative (wife and husband, child vs parent and etc)*\n- **What is the distribution of categorical features?**\n  - Names are unique across the dataset (count=unique=891)\n  - Sex variable as two possible values with `65\\%` male (top=male, freq=577/count=891).\n  - Cabin values have several dupicates across samples. Alternatively several passengers shared a cabin.\n  - Embarked takes three possible values. S port used by most passengers (top=S)\n  - Ticket feature has high ratio (22\\%) of duplicate values (unique=681).\n  "
    },
    {
      "metadata": {
        "_cell_guid": "cd586115-91fb-4681-a4f4-7362c13ab41d",
        "_uuid": "93755e779da3fee927c1a442b07d1f576d08cff0",
        "trusted": true
      },
      "cell_type": "code",
      "source": "print('# features:')\nprint(train_df.columns.values)\nprint('_'*40)\nprint('# data types:')\ntrain_df.info()\nprint('_'*40)\ntest_df.info()",
      "execution_count": 5,
      "outputs": [
        {
          "output_type": "stream",
          "text": "# features:\n['PassengerId' 'Survived' 'Pclass' 'Name' 'Sex' 'Age' 'SibSp' 'Parch'\n 'Ticket' 'Fare' 'Cabin' 'Embarked']\n________________________________________\n# data types:\n<class 'pandas.core.frame.DataFrame'>\nRangeIndex: 891 entries, 0 to 890\nData columns (total 12 columns):\nPassengerId    891 non-null int64\nSurvived       891 non-null int64\nPclass         891 non-null int64\nName           891 non-null object\nSex            891 non-null object\nAge            714 non-null float64\nSibSp          891 non-null int64\nParch          891 non-null int64\nTicket         891 non-null object\nFare           891 non-null float64\nCabin          204 non-null object\nEmbarked       889 non-null object\ndtypes: float64(2), int64(5), object(5)\nmemory usage: 83.6+ KB\n________________________________________\n<class 'pandas.core.frame.DataFrame'>\nRangeIndex: 418 entries, 0 to 417\nData columns (total 11 columns):\nPassengerId    418 non-null int64\nPclass         418 non-null int64\nName           418 non-null object\nSex            418 non-null object\nAge            332 non-null float64\nSibSp          418 non-null int64\nParch          418 non-null int64\nTicket         418 non-null object\nFare           417 non-null float64\nCabin          91 non-null object\nEmbarked       418 non-null object\ndtypes: float64(2), int64(4), object(5)\nmemory usage: 36.0+ KB\n",
          "name": "stdout"
        }
      ]
    },
    {
      "metadata": {
        "_cell_guid": "b526ecdb-17eb-47b8-a6b2-96b44ee8bd4e",
        "_uuid": "79f91aeb502477ec10552e9e57f9e864f85a4d8c",
        "trusted": true
      },
      "cell_type": "code",
      "source": "# numberical features\ntrain_df.describe()",
      "execution_count": 6,
      "outputs": [
        {
          "output_type": "execute_result",
          "execution_count": 6,
          "data": {
            "text/plain": "       PassengerId    Survived      Pclass         Age       SibSp  \\\ncount   891.000000  891.000000  891.000000  714.000000  891.000000   \nmean    446.000000    0.383838    2.308642   29.699118    0.523008   \nstd     257.353842    0.486592    0.836071   14.526497    1.102743   \nmin       1.000000    0.000000    1.000000    0.420000    0.000000   \n25%     223.500000    0.000000    2.000000   20.125000    0.000000   \n50%     446.000000    0.000000    3.000000   28.000000    0.000000   \n75%     668.500000    1.000000    3.000000   38.000000    1.000000   \nmax     891.000000    1.000000    3.000000   80.000000    8.000000   \n\n            Parch        Fare  \ncount  891.000000  891.000000  \nmean     0.381594   32.204208  \nstd      0.806057   49.693429  \nmin      0.000000    0.000000  \n25%      0.000000    7.910400  \n50%      0.000000   14.454200  \n75%      0.000000   31.000000  \nmax      6.000000  512.329200  ",
            "text/html": "<div>\n<style>\n    .dataframe thead tr:only-child th {\n        text-align: right;\n    }\n\n    .dataframe thead th {\n        text-align: left;\n    }\n\n    .dataframe tbody tr th {\n        vertical-align: top;\n    }\n</style>\n<table border=\"1\" class=\"dataframe\">\n  <thead>\n    <tr style=\"text-align: right;\">\n      <th></th>\n      <th>PassengerId</th>\n      <th>Survived</th>\n      <th>Pclass</th>\n      <th>Age</th>\n      <th>SibSp</th>\n      <th>Parch</th>\n      <th>Fare</th>\n    </tr>\n  </thead>\n  <tbody>\n    <tr>\n      <th>count</th>\n      <td>891.000000</td>\n      <td>891.000000</td>\n      <td>891.000000</td>\n      <td>714.000000</td>\n      <td>891.000000</td>\n      <td>891.000000</td>\n      <td>891.000000</td>\n    </tr>\n    <tr>\n      <th>mean</th>\n      <td>446.000000</td>\n      <td>0.383838</td>\n      <td>2.308642</td>\n      <td>29.699118</td>\n      <td>0.523008</td>\n      <td>0.381594</td>\n      <td>32.204208</td>\n    </tr>\n    <tr>\n      <th>std</th>\n      <td>257.353842</td>\n      <td>0.486592</td>\n      <td>0.836071</td>\n      <td>14.526497</td>\n      <td>1.102743</td>\n      <td>0.806057</td>\n      <td>49.693429</td>\n    </tr>\n    <tr>\n      <th>min</th>\n      <td>1.000000</td>\n      <td>0.000000</td>\n      <td>1.000000</td>\n      <td>0.420000</td>\n      <td>0.000000</td>\n      <td>0.000000</td>\n      <td>0.000000</td>\n    </tr>\n    <tr>\n      <th>25%</th>\n      <td>223.500000</td>\n      <td>0.000000</td>\n      <td>2.000000</td>\n      <td>20.125000</td>\n      <td>0.000000</td>\n      <td>0.000000</td>\n      <td>7.910400</td>\n    </tr>\n    <tr>\n      <th>50%</th>\n      <td>446.000000</td>\n      <td>0.000000</td>\n      <td>3.000000</td>\n      <td>28.000000</td>\n      <td>0.000000</td>\n      <td>0.000000</td>\n      <td>14.454200</td>\n    </tr>\n    <tr>\n      <th>75%</th>\n      <td>668.500000</td>\n      <td>1.000000</td>\n      <td>3.000000</td>\n      <td>38.000000</td>\n      <td>1.000000</td>\n      <td>0.000000</td>\n      <td>31.000000</td>\n    </tr>\n    <tr>\n      <th>max</th>\n      <td>891.000000</td>\n      <td>1.000000</td>\n      <td>3.000000</td>\n      <td>80.000000</td>\n      <td>8.000000</td>\n      <td>6.000000</td>\n      <td>512.329200</td>\n    </tr>\n  </tbody>\n</table>\n</div>"
          },
          "metadata": {}
        }
      ]
    },
    {
      "metadata": {
        "_cell_guid": "757c4a19-0498-4d0a-92d6-97207d348650",
        "_uuid": "3057b84b2e618fe9bee0fc3b4daa8dbba79a124c",
        "trusted": true
      },
      "cell_type": "code",
      "source": "# categorical features\ntrain_df.describe(include=['O'])",
      "execution_count": 7,
      "outputs": [
        {
          "output_type": "execute_result",
          "execution_count": 7,
          "data": {
            "text/plain": "                       Name   Sex Ticket    Cabin Embarked\ncount                   891   891    891      204      889\nunique                  891     2    681      147        3\ntop     Johansson, Mr. Erik  male   1601  B96 B98        S\nfreq                      1   577      7        4      644",
            "text/html": "<div>\n<style>\n    .dataframe thead tr:only-child th {\n        text-align: right;\n    }\n\n    .dataframe thead th {\n        text-align: left;\n    }\n\n    .dataframe tbody tr th {\n        vertical-align: top;\n    }\n</style>\n<table border=\"1\" class=\"dataframe\">\n  <thead>\n    <tr style=\"text-align: right;\">\n      <th></th>\n      <th>Name</th>\n      <th>Sex</th>\n      <th>Ticket</th>\n      <th>Cabin</th>\n      <th>Embarked</th>\n    </tr>\n  </thead>\n  <tbody>\n    <tr>\n      <th>count</th>\n      <td>891</td>\n      <td>891</td>\n      <td>891</td>\n      <td>204</td>\n      <td>889</td>\n    </tr>\n    <tr>\n      <th>unique</th>\n      <td>891</td>\n      <td>2</td>\n      <td>681</td>\n      <td>147</td>\n      <td>3</td>\n    </tr>\n    <tr>\n      <th>top</th>\n      <td>Johansson, Mr. Erik</td>\n      <td>male</td>\n      <td>1601</td>\n      <td>B96 B98</td>\n      <td>S</td>\n    </tr>\n    <tr>\n      <th>freq</th>\n      <td>1</td>\n      <td>577</td>\n      <td>7</td>\n      <td>4</td>\n      <td>644</td>\n    </tr>\n  </tbody>\n</table>\n</div>"
          },
          "metadata": {}
        }
      ]
    },
    {
      "metadata": {
        "_cell_guid": "697d9298-94a5-40ba-8efb-4e65d8a9e8d6",
        "_uuid": "de459469df5da3cea5c719efd7b25aa6cc04791f"
      },
      "cell_type": "markdown",
      "source": "### Assumtions based on data analysis\n- **Correlating** - check correlaction of each feature with survive index\n- **Completing** - try to complete significant feature (**Age**, **Embarked**)\n- **Correcting**\n  - **Ticket** feature may be dropped from our analysis as it contains high ratio of duplicates (22%) and there may not be a correlation between Ticket and survival.\n  - **Cabin** feature may be dropped as it is highly incomplete or contains many null values both in training and test dataset.\n  - **PassengerId** may be dropped from training dataset as it does not contribute to survival.\n  - **Name** feature is relatively non-standard, may not contribute directly to survival, so maybe dropped.\n- **Creating**\n  - We may want to create a new feature called **Family** based on Parch and SibSp to get total count of family members on board.\n  - We may want to engineer the **Name** feature to extract Title as a new feature. *ME: does it really influent on survive index?*\n  - We may want to create new feature for **Age bands**. This turns a continous numerical feature into an ordinal categorical feature.\n  - We may also want to create a **Fare range** feature if it helps our analysis.\n- **Classifying**\n  - Women (**Sex**=female) were more likely to have survived\n  - Children (**Age**<?) were more likely to have survived\n  - The upper-class passengers (**Pclass**=1) were more likely to have survived"
    },
    {
      "metadata": {
        "_cell_guid": "e087a367-9a85-410c-ad86-659a7fe039c1",
        "_uuid": "4ff7c5b56bf7ab98b654e7ea2c4b428f9733fbea"
      },
      "cell_type": "markdown",
      "source": "### Analyze by pivoting features\n- **Pclass** We observe significant correlation (>0.5) among Pclass=1 and Survived (classifying #3). We decide to include this feature in our model.\n- **Sex** We confirm the observation during problem definition that Sex=female had very high survival rate at 74% (classifying #1).\n- **SibSp** and **Parch** These features have zero correlation for certain values. It may be best to derive a feature or a set of features from these individual features (creating #1)."
    },
    {
      "metadata": {
        "_cell_guid": "361ce3f5-6cfc-4b76-9990-889f7c69bba3",
        "_uuid": "ac70632d5620219d7d472f6efd4112a4807c140e",
        "trusted": true
      },
      "cell_type": "code",
      "source": "def chance_to_survive_by_feature(feature_name):\n    return train_df[[feature_name, 'Survived']]\\\n        .groupby([feature_name])\\\n        .mean()\\\n        .sort_values(by='Survived', ascending=False)    \n\nchance_to_survive_by_feature('Pclass')",
      "execution_count": 8,
      "outputs": [
        {
          "output_type": "execute_result",
          "execution_count": 8,
          "data": {
            "text/plain": "        Survived\nPclass          \n1       0.629630\n2       0.472826\n3       0.242363",
            "text/html": "<div>\n<style>\n    .dataframe thead tr:only-child th {\n        text-align: right;\n    }\n\n    .dataframe thead th {\n        text-align: left;\n    }\n\n    .dataframe tbody tr th {\n        vertical-align: top;\n    }\n</style>\n<table border=\"1\" class=\"dataframe\">\n  <thead>\n    <tr style=\"text-align: right;\">\n      <th></th>\n      <th>Survived</th>\n    </tr>\n    <tr>\n      <th>Pclass</th>\n      <th></th>\n    </tr>\n  </thead>\n  <tbody>\n    <tr>\n      <th>1</th>\n      <td>0.629630</td>\n    </tr>\n    <tr>\n      <th>2</th>\n      <td>0.472826</td>\n    </tr>\n    <tr>\n      <th>3</th>\n      <td>0.242363</td>\n    </tr>\n  </tbody>\n</table>\n</div>"
          },
          "metadata": {}
        }
      ]
    },
    {
      "metadata": {
        "_cell_guid": "7deb88bd-d6d2-4671-a5a5-44aca18e943c",
        "_uuid": "261c824443c5b79383719785648b83e09bdcb7b5",
        "trusted": true
      },
      "cell_type": "code",
      "source": "chance_to_survive_by_feature('Sex')",
      "execution_count": 9,
      "outputs": [
        {
          "output_type": "execute_result",
          "execution_count": 9,
          "data": {
            "text/plain": "        Survived\nSex             \nfemale  0.742038\nmale    0.188908",
            "text/html": "<div>\n<style>\n    .dataframe thead tr:only-child th {\n        text-align: right;\n    }\n\n    .dataframe thead th {\n        text-align: left;\n    }\n\n    .dataframe tbody tr th {\n        vertical-align: top;\n    }\n</style>\n<table border=\"1\" class=\"dataframe\">\n  <thead>\n    <tr style=\"text-align: right;\">\n      <th></th>\n      <th>Survived</th>\n    </tr>\n    <tr>\n      <th>Sex</th>\n      <th></th>\n    </tr>\n  </thead>\n  <tbody>\n    <tr>\n      <th>female</th>\n      <td>0.742038</td>\n    </tr>\n    <tr>\n      <th>male</th>\n      <td>0.188908</td>\n    </tr>\n  </tbody>\n</table>\n</div>"
          },
          "metadata": {}
        }
      ]
    },
    {
      "metadata": {
        "_cell_guid": "b976b64f-7308-4fe5-ac65-bbd3e0b6fce9",
        "_uuid": "e9573edc08eac773abc760d295dc7d92f856f45a",
        "trusted": true
      },
      "cell_type": "code",
      "source": "chance_to_survive_by_feature('SibSp')",
      "execution_count": 10,
      "outputs": [
        {
          "output_type": "execute_result",
          "execution_count": 10,
          "data": {
            "text/plain": "       Survived\nSibSp          \n1      0.535885\n2      0.464286\n0      0.345395\n3      0.250000\n4      0.166667\n5      0.000000\n8      0.000000",
            "text/html": "<div>\n<style>\n    .dataframe thead tr:only-child th {\n        text-align: right;\n    }\n\n    .dataframe thead th {\n        text-align: left;\n    }\n\n    .dataframe tbody tr th {\n        vertical-align: top;\n    }\n</style>\n<table border=\"1\" class=\"dataframe\">\n  <thead>\n    <tr style=\"text-align: right;\">\n      <th></th>\n      <th>Survived</th>\n    </tr>\n    <tr>\n      <th>SibSp</th>\n      <th></th>\n    </tr>\n  </thead>\n  <tbody>\n    <tr>\n      <th>1</th>\n      <td>0.535885</td>\n    </tr>\n    <tr>\n      <th>2</th>\n      <td>0.464286</td>\n    </tr>\n    <tr>\n      <th>0</th>\n      <td>0.345395</td>\n    </tr>\n    <tr>\n      <th>3</th>\n      <td>0.250000</td>\n    </tr>\n    <tr>\n      <th>4</th>\n      <td>0.166667</td>\n    </tr>\n    <tr>\n      <th>5</th>\n      <td>0.000000</td>\n    </tr>\n    <tr>\n      <th>8</th>\n      <td>0.000000</td>\n    </tr>\n  </tbody>\n</table>\n</div>"
          },
          "metadata": {}
        }
      ]
    },
    {
      "metadata": {
        "_cell_guid": "e55161b9-faec-468d-8e28-65fd043e10ae",
        "_uuid": "f166d22871dec5bd9a70c060bd38eb9a82a3da00",
        "trusted": true
      },
      "cell_type": "code",
      "source": "chance_to_survive_by_feature('Parch')",
      "execution_count": 11,
      "outputs": [
        {
          "output_type": "execute_result",
          "execution_count": 11,
          "data": {
            "text/plain": "       Survived\nParch          \n3      0.600000\n1      0.550847\n2      0.500000\n0      0.343658\n5      0.200000\n4      0.000000\n6      0.000000",
            "text/html": "<div>\n<style>\n    .dataframe thead tr:only-child th {\n        text-align: right;\n    }\n\n    .dataframe thead th {\n        text-align: left;\n    }\n\n    .dataframe tbody tr th {\n        vertical-align: top;\n    }\n</style>\n<table border=\"1\" class=\"dataframe\">\n  <thead>\n    <tr style=\"text-align: right;\">\n      <th></th>\n      <th>Survived</th>\n    </tr>\n    <tr>\n      <th>Parch</th>\n      <th></th>\n    </tr>\n  </thead>\n  <tbody>\n    <tr>\n      <th>3</th>\n      <td>0.600000</td>\n    </tr>\n    <tr>\n      <th>1</th>\n      <td>0.550847</td>\n    </tr>\n    <tr>\n      <th>2</th>\n      <td>0.500000</td>\n    </tr>\n    <tr>\n      <th>0</th>\n      <td>0.343658</td>\n    </tr>\n    <tr>\n      <th>5</th>\n      <td>0.200000</td>\n    </tr>\n    <tr>\n      <th>4</th>\n      <td>0.000000</td>\n    </tr>\n    <tr>\n      <th>6</th>\n      <td>0.000000</td>\n    </tr>\n  </tbody>\n</table>\n</div>"
          },
          "metadata": {}
        }
      ]
    },
    {
      "metadata": {
        "_cell_guid": "d2772e7a-bd1c-4aa2-a41e-8636ef960fd5",
        "collapsed": true,
        "_uuid": "f9c1e1e0ae3fea7bf21ef7c6e75fea74a7c72ebe"
      },
      "cell_type": "markdown",
      "source": "## Visualization"
    },
    {
      "metadata": {
        "_cell_guid": "50b4f79f-c307-4853-8089-365cd6c2e382",
        "_uuid": "221b8503c8cff12afb7a7278559fd4ef34c39e46"
      },
      "cell_type": "markdown",
      "source": "- Infants (Age <=4) had high survival rate.\n- Oldest passengers (Age = 80) survived.\n- Large number of 15-25 year olds did not survive.\n- Most passengers are in 15-35 age range."
    },
    {
      "metadata": {
        "_cell_guid": "5aac1160-35b1-4d40-8ec7-5453dbd28214",
        "_uuid": "5c28e1bb5577567ed79bd592f57a150bced10e78",
        "trusted": true
      },
      "cell_type": "code",
      "source": "g = sns.FacetGrid(train_df, col='Survived')\ng.map(plt.hist, 'Age', bins=20);",
      "execution_count": 12,
      "outputs": [
        {
          "output_type": "display_data",
          "data": {
            "text/plain": "<matplotlib.figure.Figure at 0x7fadc4c2db00>",
            "image/png": "[encoded data removed]"
          },
          "metadata": {}
        }
      ]
    },
    {
      "metadata": {
        "_cell_guid": "413c410a-f5da-4c0b-97d9-5c8cca5d4c34",
        "_uuid": "232775b754be495908d14f2756bcbafd4cae8f57"
      },
      "cell_type": "markdown",
      "source": "- Pclass=3 had most passengers, however most did not survive. Confirms our classifying assumption #2.\n- Infant passengers in Pclass=2 and Pclass=3 mostly survived. Further qualifies our classifying assumption #2.\n- Most passengers in Pclass=1 survived. Confirms our classifying assumption #3.\n- Pclass varies in terms of Age distribution of passengers."
    },
    {
      "metadata": {
        "_cell_guid": "213e61f6-bd08-4535-a2da-c388b2124f5e",
        "_uuid": "475664ae50d46fd52581935a4c6cd550eb680966",
        "trusted": true
      },
      "cell_type": "code",
      "source": "grid = sns.FacetGrid(train_df, col='Survived', row='Pclass', size=2.2, aspect=1.6)\ngrid.map(plt.hist, 'Age', alpha=.5, bins=20)\ngrid.add_legend();\n",
      "execution_count": 13,
      "outputs": [
        {
          "output_type": "display_data",
          "data": {
            "text/plain": "<matplotlib.figure.Figure at 0x7fadc1847a58>",
            "image/png": "[encoded data removed]"
          },
          "metadata": {}
        }
      ]
    },
    {
      "metadata": {
        "_cell_guid": "d72de8b1-c138-47f1-8eae-950ee6cf3085",
        "_uuid": "3d6b124760db2fd7e2a303be3f8ff48d9a6962f9",
        "trusted": true
      },
      "cell_type": "code",
      "source": "ordered_embarked = train_df.Embarked.value_counts().index\n\ngrid = sns.FacetGrid(train_df, row='Embarked', size=2.2, aspect=1.6)\ngrid.map(sns.pointplot, 'Pclass', 'Survived', 'Sex', palette='deep')\ngrid.add_legend();",
      "execution_count": 14,
      "outputs": [
        {
          "output_type": "stream",
          "text": "/opt/conda/lib/python3.6/site-packages/seaborn/axisgrid.py:703: UserWarning: Using the pointplot function without specifying `order` is likely to produce an incorrect plot.\n  warnings.warn(warning)\n/opt/conda/lib/python3.6/site-packages/seaborn/axisgrid.py:708: UserWarning: Using the pointplot function without specifying `hue_order` is likely to produce an incorrect plot.\n  warnings.warn(warning)\n",
          "name": "stderr"
        },
        {
          "output_type": "display_data",
          "data": {
            "text/plain": "<matplotlib.figure.Figure at 0x7fadc15f8240>",
            "image/png": "[encoded data removed]"
          },
          "metadata": {}
        }
      ]
    },
    {
      "metadata": {
        "_cell_guid": "2b4dbfaf-14db-4954-8664-e6472c730adc",
        "_uuid": "f2e2fafe038f504db8b1f9a1793ffa616888648b",
        "trusted": true
      },
      "cell_type": "code",
      "source": "grid = sns.FacetGrid(train_df, row='Embarked', col='Survived', size=2.2, aspect=1.6)\ngrid.map(sns.barplot, 'Sex', 'Fare', alpha=.5, ci=None)\ngrid.add_legend();",
      "execution_count": 15,
      "outputs": [
        {
          "output_type": "stream",
          "text": "/opt/conda/lib/python3.6/site-packages/seaborn/axisgrid.py:703: UserWarning: Using the barplot function without specifying `order` is likely to produce an incorrect plot.\n  warnings.warn(warning)\n",
          "name": "stderr"
        },
        {
          "output_type": "display_data",
          "data": {
            "text/plain": "<matplotlib.figure.Figure at 0x7fadc14cba20>",
            "image/png": "[encoded data removed]"
          },
          "metadata": {}
        }
      ]
    },
    {
      "metadata": {
        "_cell_guid": "ceb0a36f-a970-431d-8cd5-57585aab00a0",
        "_uuid": "fd54c19e155479d907a14f16d5b909ac8176e9a9"
      },
      "cell_type": "markdown",
      "source": "- Higher fare paying passengers had better survival. Confirms our assumption for creating (#4) fare ranges.\n- Port of embarkation correlates with survival rates. Confirms correlating (#1) and completing (#2)."
    },
    {
      "metadata": {
        "_cell_guid": "2237079b-503e-4c2f-a249-617970ca2083",
        "collapsed": true,
        "_uuid": "3c689cda2eb2dad882a98f9634b523f1e9d3eb42"
      },
      "cell_type": "markdown",
      "source": "# Clearning data\n## Drop features"
    },
    {
      "metadata": {
        "_cell_guid": "49125f07-f95e-42cd-8c05-94d8d796a865",
        "_uuid": "23cdfcaefbce6ba3c2db5044485b69f1add3853c",
        "trusted": true
      },
      "cell_type": "code",
      "source": "print(\"Before\", train_df.shape, test_df.shape, combine[0].shape, combine[1].shape)\ntrain_df = train_df.drop(['Ticket', 'Cabin', 'PassengerId'], axis=1)\ntest_df = test_df.drop(['Ticket', 'Cabin'], axis=1)\ncombine = [train_df, test_df]\nprint(\"After \", train_df.shape, test_df.shape, combine[0].shape, combine[1].shape)",
      "execution_count": 16,
      "outputs": [
        {
          "output_type": "stream",
          "text": "Before (891, 12) (418, 11) (891, 12) (418, 11)\nAfter  (891, 9) (418, 9) (891, 9) (418, 9)\n",
          "name": "stdout"
        }
      ]
    },
    {
      "metadata": {
        "_cell_guid": "c6a0b1f1-3f69-466b-b19d-541367c1e787",
        "_uuid": "1187b54e2b14d8822c65557e403972feb8b8749f"
      },
      "cell_type": "markdown",
      "source": "## Create new feature\n### Create 'Title' and drop 'Name'"
    },
    {
      "metadata": {
        "_cell_guid": "f0023dcc-bdbe-4d39-808c-f6b0a8948b3e",
        "_uuid": "7d22c65ad6e0b52d8244fcb7d50600424201502e",
        "trusted": true
      },
      "cell_type": "code",
      "source": "for dataset in combine:\n    dataset['Title'] = dataset.Name.str.extract(' ([A-Za-z]+)\\.', expand=False)\n\npd.crosstab(train_df['Title'], train_df['Sex'])",
      "execution_count": 17,
      "outputs": [
        {
          "output_type": "execute_result",
          "execution_count": 17,
          "data": {
            "text/plain": "Sex       female  male\nTitle                 \nCapt           0     1\nCol            0     2\nCountess       1     0\nDon            0     1\nDr             1     6\nJonkheer       0     1\nLady           1     0\nMajor          0     2\nMaster         0    40\nMiss         182     0\nMlle           2     0\nMme            1     0\nMr             0   517\nMrs          125     0\nMs             1     0\nRev            0     6\nSir            0     1",
            "text/html": "<div>\n<style>\n    .dataframe thead tr:only-child th {\n        text-align: right;\n    }\n\n    .dataframe thead th {\n        text-align: left;\n    }\n\n    .dataframe tbody tr th {\n        vertical-align: top;\n    }\n</style>\n<table border=\"1\" class=\"dataframe\">\n  <thead>\n    <tr style=\"text-align: right;\">\n      <th>Sex</th>\n      <th>female</th>\n      <th>male</th>\n    </tr>\n    <tr>\n      <th>Title</th>\n      <th></th>\n      <th></th>\n    </tr>\n  </thead>\n  <tbody>\n    <tr>\n      <th>Capt</th>\n      <td>0</td>\n      <td>1</td>\n    </tr>\n    <tr>\n      <th>Col</th>\n      <td>0</td>\n      <td>2</td>\n    </tr>\n    <tr>\n      <th>Countess</th>\n      <td>1</td>\n      <td>0</td>\n    </tr>\n    <tr>\n      <th>Don</th>\n      <td>0</td>\n      <td>1</td>\n    </tr>\n    <tr>\n      <th>Dr</th>\n      <td>1</td>\n      <td>6</td>\n    </tr>\n    <tr>\n      <th>Jonkheer</th>\n      <td>0</td>\n      <td>1</td>\n    </tr>\n    <tr>\n      <th>Lady</th>\n      <td>1</td>\n      <td>0</td>\n    </tr>\n    <tr>\n      <th>Major</th>\n      <td>0</td>\n      <td>2</td>\n    </tr>\n    <tr>\n      <th>Master</th>\n      <td>0</td>\n      <td>40</td>\n    </tr>\n    <tr>\n      <th>Miss</th>\n      <td>182</td>\n      <td>0</td>\n    </tr>\n    <tr>\n      <th>Mlle</th>\n      <td>2</td>\n      <td>0</td>\n    </tr>\n    <tr>\n      <th>Mme</th>\n      <td>1</td>\n      <td>0</td>\n    </tr>\n    <tr>\n      <th>Mr</th>\n      <td>0</td>\n      <td>517</td>\n    </tr>\n    <tr>\n      <th>Mrs</th>\n      <td>125</td>\n      <td>0</td>\n    </tr>\n    <tr>\n      <th>Ms</th>\n      <td>1</td>\n      <td>0</td>\n    </tr>\n    <tr>\n      <th>Rev</th>\n      <td>0</td>\n      <td>6</td>\n    </tr>\n    <tr>\n      <th>Sir</th>\n      <td>0</td>\n      <td>1</td>\n    </tr>\n  </tbody>\n</table>\n</div>"
          },
          "metadata": {}
        }
      ]
    },
    {
      "metadata": {
        "_cell_guid": "101bf6d7-a73a-47f5-9104-43fc7d050419",
        "_uuid": "1f9b9e0d353fc72d9a649ff988d6f191b4eae2d6",
        "trusted": true
      },
      "cell_type": "code",
      "source": "for dataset in combine:\n    dataset['Title'] = dataset['Title'].replace(['Lady', 'Countess','Capt', 'Col',\\\n                                                 'Don', 'Dr', 'Major', 'Rev', 'Sir', \\\n                                                 'Jonkheer', 'Dona'], 'Rare')\n\n    dataset['Title'] = dataset['Title'].replace('Mlle', 'Miss')\n    dataset['Title'] = dataset['Title'].replace('Ms', 'Miss')\n    dataset['Title'] = dataset['Title'].replace('Mme', 'Mrs')\n    \ntrain_df[['Title', 'Survived']].groupby(['Title'], as_index=False).mean()",
      "execution_count": 18,
      "outputs": [
        {
          "output_type": "execute_result",
          "execution_count": 18,
          "data": {
            "text/plain": "    Title  Survived\n0  Master  0.575000\n1    Miss  0.702703\n2      Mr  0.156673\n3     Mrs  0.793651\n4    Rare  0.347826",
            "text/html": "<div>\n<style>\n    .dataframe thead tr:only-child th {\n        text-align: right;\n    }\n\n    .dataframe thead th {\n        text-align: left;\n    }\n\n    .dataframe tbody tr th {\n        vertical-align: top;\n    }\n</style>\n<table border=\"1\" class=\"dataframe\">\n  <thead>\n    <tr style=\"text-align: right;\">\n      <th></th>\n      <th>Title</th>\n      <th>Survived</th>\n    </tr>\n  </thead>\n  <tbody>\n    <tr>\n      <th>0</th>\n      <td>Master</td>\n      <td>0.575000</td>\n    </tr>\n    <tr>\n      <th>1</th>\n      <td>Miss</td>\n      <td>0.702703</td>\n    </tr>\n    <tr>\n      <th>2</th>\n      <td>Mr</td>\n      <td>0.156673</td>\n    </tr>\n    <tr>\n      <th>3</th>\n      <td>Mrs</td>\n      <td>0.793651</td>\n    </tr>\n    <tr>\n      <th>4</th>\n      <td>Rare</td>\n      <td>0.347826</td>\n    </tr>\n  </tbody>\n</table>\n</div>"
          },
          "metadata": {}
        }
      ]
    },
    {
      "metadata": {
        "_cell_guid": "cfcbad00-3983-4645-8579-e891f4c792a6",
        "_uuid": "3573b29fe50472974e84de53543df695d643631f",
        "trusted": true
      },
      "cell_type": "code",
      "source": "title_mapping = {\"Mr\": 1, \"Miss\": 2, \"Mrs\": 3, \"Master\": 4, \"Rare\": 5}\nfor dataset in combine:\n    dataset['Title'] = dataset['Title'].map(title_mapping)\n    dataset['Title'] = dataset['Title'].fillna(0)\n\ntrain_df.head()",
      "execution_count": 19,
      "outputs": [
        {
          "output_type": "execute_result",
          "execution_count": 19,
          "data": {
            "text/plain": "   Survived  Pclass                                               Name  \\\n0         0       3                            Braund, Mr. Owen Harris   \n1         1       1  Cumings, Mrs. John Bradley (Florence Briggs Th...   \n2         1       3                             Heikkinen, Miss. Laina   \n3         1       1       Futrelle, Mrs. Jacques Heath (Lily May Peel)   \n4         0       3                           Allen, Mr. William Henry   \n\n      Sex   Age  SibSp  Parch     Fare Embarked  Title  \n0    male  22.0      1      0   7.2500        S      1  \n1  female  38.0      1      0  71.2833        C      3  \n2  female  26.0      0      0   7.9250        S      2  \n3  female  35.0      1      0  53.1000        S      3  \n4    male  35.0      0      0   8.0500        S      1  ",
            "text/html": "<div>\n<style>\n    .dataframe thead tr:only-child th {\n        text-align: right;\n    }\n\n    .dataframe thead th {\n        text-align: left;\n    }\n\n    .dataframe tbody tr th {\n        vertical-align: top;\n    }\n</style>\n<table border=\"1\" class=\"dataframe\">\n  <thead>\n    <tr style=\"text-align: right;\">\n      <th></th>\n      <th>Survived</th>\n      <th>Pclass</th>\n      <th>Name</th>\n      <th>Sex</th>\n      <th>Age</th>\n      <th>SibSp</th>\n      <th>Parch</th>\n      <th>Fare</th>\n      <th>Embarked</th>\n      <th>Title</th>\n    </tr>\n  </thead>\n  <tbody>\n    <tr>\n      <th>0</th>\n      <td>0</td>\n      <td>3</td>\n      <td>Braund, Mr. Owen Harris</td>\n      <td>male</td>\n      <td>22.0</td>\n      <td>1</td>\n      <td>0</td>\n      <td>7.2500</td>\n      <td>S</td>\n      <td>1</td>\n    </tr>\n    <tr>\n      <th>1</th>\n      <td>1</td>\n      <td>1</td>\n      <td>Cumings, Mrs. John Bradley (Florence Briggs Th...</td>\n      <td>female</td>\n      <td>38.0</td>\n      <td>1</td>\n      <td>0</td>\n      <td>71.2833</td>\n      <td>C</td>\n      <td>3</td>\n    </tr>\n    <tr>\n      <th>2</th>\n      <td>1</td>\n      <td>3</td>\n      <td>Heikkinen, Miss. Laina</td>\n      <td>female</td>\n      <td>26.0</td>\n      <td>0</td>\n      <td>0</td>\n      <td>7.9250</td>\n      <td>S</td>\n      <td>2</td>\n    </tr>\n    <tr>\n      <th>3</th>\n      <td>1</td>\n      <td>1</td>\n      <td>Futrelle, Mrs. Jacques Heath (Lily May Peel)</td>\n      <td>female</td>\n      <td>35.0</td>\n      <td>1</td>\n      <td>0</td>\n      <td>53.1000</td>\n      <td>S</td>\n      <td>3</td>\n    </tr>\n    <tr>\n      <th>4</th>\n      <td>0</td>\n      <td>3</td>\n      <td>Allen, Mr. William Henry</td>\n      <td>male</td>\n      <td>35.0</td>\n      <td>0</td>\n      <td>0</td>\n      <td>8.0500</td>\n      <td>S</td>\n      <td>1</td>\n    </tr>\n  </tbody>\n</table>\n</div>"
          },
          "metadata": {}
        }
      ]
    },
    {
      "metadata": {
        "_cell_guid": "8b13b167-d7ee-4e8e-a232-caa79f24da41",
        "_uuid": "c03bbeba1ee1ad762a17e5ad85308fa6e72a486c",
        "trusted": true
      },
      "cell_type": "code",
      "source": "train_df = train_df.drop(['Name'], axis=1)\ntest_df = test_df.drop(['Name'], axis=1)\ncombine = [train_df, test_df]\ntrain_df.shape, test_df.shape",
      "execution_count": 20,
      "outputs": [
        {
          "output_type": "execute_result",
          "execution_count": 20,
          "data": {
            "text/plain": "((891, 9), (418, 9))"
          },
          "metadata": {}
        }
      ]
    },
    {
      "metadata": {
        "_cell_guid": "33c973c7-b391-4707-b8b2-b36ede432ded",
        "_uuid": "ae5ee285883707665676499a20ca5217c89d4801"
      },
      "cell_type": "markdown",
      "source": "## Convert Sex type to number"
    },
    {
      "metadata": {
        "_cell_guid": "895fbc42-6116-46a7-af32-3f8d9e6ceb35",
        "_uuid": "ca528fa552918187ba94667f83e694ef2b47a941",
        "trusted": true
      },
      "cell_type": "code",
      "source": "for dataset in combine:\n    dataset['Sex'] = dataset['Sex'].map( {'female': 1, 'male': 0} ).astype(int)\n\ntrain_df.head()",
      "execution_count": 21,
      "outputs": [
        {
          "output_type": "execute_result",
          "execution_count": 21,
          "data": {
            "text/plain": "   Survived  Pclass  Sex   Age  SibSp  Parch     Fare Embarked  Title\n0         0       3    0  22.0      1      0   7.2500        S      1\n1         1       1    1  38.0      1      0  71.2833        C      3\n2         1       3    1  26.0      0      0   7.9250        S      2\n3         1       1    1  35.0      1      0  53.1000        S      3\n4         0       3    0  35.0      0      0   8.0500        S      1",
            "text/html": "<div>\n<style>\n    .dataframe thead tr:only-child th {\n        text-align: right;\n    }\n\n    .dataframe thead th {\n        text-align: left;\n    }\n\n    .dataframe tbody tr th {\n        vertical-align: top;\n    }\n</style>\n<table border=\"1\" class=\"dataframe\">\n  <thead>\n    <tr style=\"text-align: right;\">\n      <th></th>\n      <th>Survived</th>\n      <th>Pclass</th>\n      <th>Sex</th>\n      <th>Age</th>\n      <th>SibSp</th>\n      <th>Parch</th>\n      <th>Fare</th>\n      <th>Embarked</th>\n      <th>Title</th>\n    </tr>\n  </thead>\n  <tbody>\n    <tr>\n      <th>0</th>\n      <td>0</td>\n      <td>3</td>\n      <td>0</td>\n      <td>22.0</td>\n      <td>1</td>\n      <td>0</td>\n      <td>7.2500</td>\n      <td>S</td>\n      <td>1</td>\n    </tr>\n    <tr>\n      <th>1</th>\n      <td>1</td>\n      <td>1</td>\n      <td>1</td>\n      <td>38.0</td>\n      <td>1</td>\n      <td>0</td>\n      <td>71.2833</td>\n      <td>C</td>\n      <td>3</td>\n    </tr>\n    <tr>\n      <th>2</th>\n      <td>1</td>\n      <td>3</td>\n      <td>1</td>\n      <td>26.0</td>\n      <td>0</td>\n      <td>0</td>\n      <td>7.9250</td>\n      <td>S</td>\n      <td>2</td>\n    </tr>\n    <tr>\n      <th>3</th>\n      <td>1</td>\n      <td>1</td>\n      <td>1</td>\n      <td>35.0</td>\n      <td>1</td>\n      <td>0</td>\n      <td>53.1000</td>\n      <td>S</td>\n      <td>3</td>\n    </tr>\n    <tr>\n      <th>4</th>\n      <td>0</td>\n      <td>3</td>\n      <td>0</td>\n      <td>35.0</td>\n      <td>0</td>\n      <td>0</td>\n      <td>8.0500</td>\n      <td>S</td>\n      <td>1</td>\n    </tr>\n  </tbody>\n</table>\n</div>"
          },
          "metadata": {}
        }
      ]
    },
    {
      "metadata": {
        "_cell_guid": "908d599f-31a6-4c98-926a-e1b1644fe910",
        "_uuid": "2f3f362af60724e9885b505ea2fc93a32dbccf2b"
      },
      "cell_type": "markdown",
      "source": "## Completing a numerical continuous feature\nMethods\n- A simple way is to generate random numbers between mean and standard deviation.\n- More accurate way of guessing missing values is to use other correlated features. In our case we note correlation among Age, Gender, and Pclass. Guess Age values using median values for Age across sets of Pclass and Gender feature combinations. So, median Age for Pclass=1 and Gender=0, Pclass=1 and Gender=1, and so on...\n- Combine methods 1 and 2. So instead of guessing age values based on median, use random numbers between mean and standard deviation, based on sets of Pclass and Gender combinations.\n\n\n### Age\n"
    },
    {
      "metadata": {
        "_cell_guid": "04cea51c-157d-4475-8a14-742b17899f12",
        "_uuid": "6d1f593574a75817925d79c2c811144778aa8047",
        "trusted": true
      },
      "cell_type": "code",
      "source": "grid = sns.FacetGrid(train_df, row='Pclass', col='Sex', size=2.2, aspect=1.6)\ngrid.map(plt.hist, 'Age', alpha=.5, bins=20)\ngrid.add_legend();",
      "execution_count": 22,
      "outputs": [
        {
          "output_type": "display_data",
          "data": {
            "text/plain": "<matplotlib.figure.Figure at 0x7fadc16a8780>",
            "image/png": "[encoded data removed]"
          },
          "metadata": {}
        }
      ]
    },
    {
      "metadata": {
        "_cell_guid": "1c34dd7e-0af6-4439-819f-b019b43c20a2",
        "_uuid": "caf1c6d48b6a092c220aea207843e7dca98a1b00",
        "trusted": true
      },
      "cell_type": "code",
      "source": "guess_ages = np.zeros((2,3))\n\nfor dataset in combine:\n    for i in range(0, 2):\n        for j in range(0, 3):\n            guess_df = dataset[(dataset['Sex'] == i) & \\\n                                  (dataset['Pclass'] == j+1)]['Age'].dropna()\n\n            # age_mean = guess_df.mean()\n            # age_std = guess_df.std()\n            # age_guess = rnd.uniform(age_mean - age_std, age_mean + age_std)\n\n            age_guess = guess_df.median()\n\n            # Convert random age float to nearest .5 age\n            guess_ages[i,j] = int( age_guess/0.5 + 0.5 ) * 0.5\n            \n    for i in range(0, 2):\n        for j in range(0, 3):\n            dataset.loc[ (dataset.Age.isnull()) & (dataset.Sex == i) & (dataset.Pclass == j+1),\\\n                    'Age'] = guess_ages[i,j]\n\n    dataset['Age'] = dataset['Age'].astype(int)\n\ntrain_df['AgeBand'] = pd.cut(train_df['Age'], 5)\ntrain_df[['AgeBand', 'Survived']].groupby(['AgeBand'], as_index=False).mean().sort_values(by='AgeBand', ascending=True)",
      "execution_count": 23,
      "outputs": [
        {
          "output_type": "execute_result",
          "execution_count": 23,
          "data": {
            "text/plain": "         AgeBand  Survived\n0  (-0.08, 16.0]  0.550000\n1   (16.0, 32.0]  0.337374\n2   (32.0, 48.0]  0.412037\n3   (48.0, 64.0]  0.434783\n4   (64.0, 80.0]  0.090909",
            "text/html": "<div>\n<style>\n    .dataframe thead tr:only-child th {\n        text-align: right;\n    }\n\n    .dataframe thead th {\n        text-align: left;\n    }\n\n    .dataframe tbody tr th {\n        vertical-align: top;\n    }\n</style>\n<table border=\"1\" class=\"dataframe\">\n  <thead>\n    <tr style=\"text-align: right;\">\n      <th></th>\n      <th>AgeBand</th>\n      <th>Survived</th>\n    </tr>\n  </thead>\n  <tbody>\n    <tr>\n      <th>0</th>\n      <td>(-0.08, 16.0]</td>\n      <td>0.550000</td>\n    </tr>\n    <tr>\n      <th>1</th>\n      <td>(16.0, 32.0]</td>\n      <td>0.337374</td>\n    </tr>\n    <tr>\n      <th>2</th>\n      <td>(32.0, 48.0]</td>\n      <td>0.412037</td>\n    </tr>\n    <tr>\n      <th>3</th>\n      <td>(48.0, 64.0]</td>\n      <td>0.434783</td>\n    </tr>\n    <tr>\n      <th>4</th>\n      <td>(64.0, 80.0]</td>\n      <td>0.090909</td>\n    </tr>\n  </tbody>\n</table>\n</div>"
          },
          "metadata": {}
        }
      ]
    },
    {
      "metadata": {
        "_cell_guid": "acbb42ff-e2c9-471b-82a9-ed23d1be5de3",
        "_uuid": "1298f9882bb2937ab8631972c612dd86b7bc30b2",
        "trusted": true
      },
      "cell_type": "code",
      "source": "for dataset in combine:    \n    dataset.loc[ dataset['Age'] <= 16, 'Age'] = 0\n    dataset.loc[(dataset['Age'] > 16) & (dataset['Age'] <= 32), 'Age'] = 1\n    dataset.loc[(dataset['Age'] > 32) & (dataset['Age'] <= 48), 'Age'] = 2\n    dataset.loc[(dataset['Age'] > 48) & (dataset['Age'] <= 64), 'Age'] = 3\n    dataset.loc[ dataset['Age'] > 64, 'Age']\ntrain_df.head()",
      "execution_count": 24,
      "outputs": [
        {
          "output_type": "execute_result",
          "execution_count": 24,
          "data": {
            "text/plain": "   Survived  Pclass  Sex  Age  SibSp  Parch     Fare Embarked  Title  \\\n0         0       3    0    1      1      0   7.2500        S      1   \n1         1       1    1    2      1      0  71.2833        C      3   \n2         1       3    1    1      0      0   7.9250        S      2   \n3         1       1    1    2      1      0  53.1000        S      3   \n4         0       3    0    2      0      0   8.0500        S      1   \n\n        AgeBand  \n0  (16.0, 32.0]  \n1  (32.0, 48.0]  \n2  (16.0, 32.0]  \n3  (32.0, 48.0]  \n4  (32.0, 48.0]  ",
            "text/html": "<div>\n<style>\n    .dataframe thead tr:only-child th {\n        text-align: right;\n    }\n\n    .dataframe thead th {\n        text-align: left;\n    }\n\n    .dataframe tbody tr th {\n        vertical-align: top;\n    }\n</style>\n<table border=\"1\" class=\"dataframe\">\n  <thead>\n    <tr style=\"text-align: right;\">\n      <th></th>\n      <th>Survived</th>\n      <th>Pclass</th>\n      <th>Sex</th>\n      <th>Age</th>\n      <th>SibSp</th>\n      <th>Parch</th>\n      <th>Fare</th>\n      <th>Embarked</th>\n      <th>Title</th>\n      <th>AgeBand</th>\n    </tr>\n  </thead>\n  <tbody>\n    <tr>\n      <th>0</th>\n      <td>0</td>\n      <td>3</td>\n      <td>0</td>\n      <td>1</td>\n      <td>1</td>\n      <td>0</td>\n      <td>7.2500</td>\n      <td>S</td>\n      <td>1</td>\n      <td>(16.0, 32.0]</td>\n    </tr>\n    <tr>\n      <th>1</th>\n      <td>1</td>\n      <td>1</td>\n      <td>1</td>\n      <td>2</td>\n      <td>1</td>\n      <td>0</td>\n      <td>71.2833</td>\n      <td>C</td>\n      <td>3</td>\n      <td>(32.0, 48.0]</td>\n    </tr>\n    <tr>\n      <th>2</th>\n      <td>1</td>\n      <td>3</td>\n      <td>1</td>\n      <td>1</td>\n      <td>0</td>\n      <td>0</td>\n      <td>7.9250</td>\n      <td>S</td>\n      <td>2</td>\n      <td>(16.0, 32.0]</td>\n    </tr>\n    <tr>\n      <th>3</th>\n      <td>1</td>\n      <td>1</td>\n      <td>1</td>\n      <td>2</td>\n      <td>1</td>\n      <td>0</td>\n      <td>53.1000</td>\n      <td>S</td>\n      <td>3</td>\n      <td>(32.0, 48.0]</td>\n    </tr>\n    <tr>\n      <th>4</th>\n      <td>0</td>\n      <td>3</td>\n      <td>0</td>\n      <td>2</td>\n      <td>0</td>\n      <td>0</td>\n      <td>8.0500</td>\n      <td>S</td>\n      <td>1</td>\n      <td>(32.0, 48.0]</td>\n    </tr>\n  </tbody>\n</table>\n</div>"
          },
          "metadata": {}
        }
      ]
    },
    {
      "metadata": {
        "_cell_guid": "a8d94a93-b7f5-48e3-afff-40367d8b8bdb",
        "_uuid": "bcd9c0cd3286578de8eb4195fbd2ee8f303d1b0a",
        "trusted": true
      },
      "cell_type": "code",
      "source": "train_df = train_df.drop(['AgeBand'], axis=1)\ncombine = [train_df, test_df]\ntrain_df.head()",
      "execution_count": 25,
      "outputs": [
        {
          "output_type": "execute_result",
          "execution_count": 25,
          "data": {
            "text/plain": "   Survived  Pclass  Sex  Age  SibSp  Parch     Fare Embarked  Title\n0         0       3    0    1      1      0   7.2500        S      1\n1         1       1    1    2      1      0  71.2833        C      3\n2         1       3    1    1      0      0   7.9250        S      2\n3         1       1    1    2      1      0  53.1000        S      3\n4         0       3    0    2      0      0   8.0500        S      1",
            "text/html": "<div>\n<style>\n    .dataframe thead tr:only-child th {\n        text-align: right;\n    }\n\n    .dataframe thead th {\n        text-align: left;\n    }\n\n    .dataframe tbody tr th {\n        vertical-align: top;\n    }\n</style>\n<table border=\"1\" class=\"dataframe\">\n  <thead>\n    <tr style=\"text-align: right;\">\n      <th></th>\n      <th>Survived</th>\n      <th>Pclass</th>\n      <th>Sex</th>\n      <th>Age</th>\n      <th>SibSp</th>\n      <th>Parch</th>\n      <th>Fare</th>\n      <th>Embarked</th>\n      <th>Title</th>\n    </tr>\n  </thead>\n  <tbody>\n    <tr>\n      <th>0</th>\n      <td>0</td>\n      <td>3</td>\n      <td>0</td>\n      <td>1</td>\n      <td>1</td>\n      <td>0</td>\n      <td>7.2500</td>\n      <td>S</td>\n      <td>1</td>\n    </tr>\n    <tr>\n      <th>1</th>\n      <td>1</td>\n      <td>1</td>\n      <td>1</td>\n      <td>2</td>\n      <td>1</td>\n      <td>0</td>\n      <td>71.2833</td>\n      <td>C</td>\n      <td>3</td>\n    </tr>\n    <tr>\n      <th>2</th>\n      <td>1</td>\n      <td>3</td>\n      <td>1</td>\n      <td>1</td>\n      <td>0</td>\n      <td>0</td>\n      <td>7.9250</td>\n      <td>S</td>\n      <td>2</td>\n    </tr>\n    <tr>\n      <th>3</th>\n      <td>1</td>\n      <td>1</td>\n      <td>1</td>\n      <td>2</td>\n      <td>1</td>\n      <td>0</td>\n      <td>53.1000</td>\n      <td>S</td>\n      <td>3</td>\n    </tr>\n    <tr>\n      <th>4</th>\n      <td>0</td>\n      <td>3</td>\n      <td>0</td>\n      <td>2</td>\n      <td>0</td>\n      <td>0</td>\n      <td>8.0500</td>\n      <td>S</td>\n      <td>1</td>\n    </tr>\n  </tbody>\n</table>\n</div>"
          },
          "metadata": {}
        }
      ]
    },
    {
      "metadata": {
        "_cell_guid": "d7b3135b-0713-4e64-9bb3-a84e68dc5685",
        "_uuid": "d2203c2e6d0bbf060da101e2235cf2ea3c723ab4"
      },
      "cell_type": "markdown",
      "source": "## Create feature \"FamilySize\""
    },
    {
      "metadata": {
        "_cell_guid": "9f64e1e2-9a1f-4035-ad57-a5dd22e7cdc7",
        "_uuid": "13a616632a5c5729b8ab7cd39847a32d1ce590d0",
        "trusted": true
      },
      "cell_type": "code",
      "source": "for dataset in combine:\n    dataset['FamilySize'] = dataset['SibSp'] + dataset['Parch'] + 1\n\ntrain_df[[\n    'FamilySize', \n    'Survived',\n]].groupby([\n    'FamilySize'\n], as_index=False)\\\n.mean()\\\n.sort_values(by='Survived', ascending=False)",
      "execution_count": 26,
      "outputs": [
        {
          "output_type": "execute_result",
          "execution_count": 26,
          "data": {
            "text/plain": "   FamilySize  Survived\n3           4  0.724138\n2           3  0.578431\n1           2  0.552795\n6           7  0.333333\n0           1  0.303538\n4           5  0.200000\n5           6  0.136364\n7           8  0.000000\n8          11  0.000000",
            "text/html": "<div>\n<style>\n    .dataframe thead tr:only-child th {\n        text-align: right;\n    }\n\n    .dataframe thead th {\n        text-align: left;\n    }\n\n    .dataframe tbody tr th {\n        vertical-align: top;\n    }\n</style>\n<table border=\"1\" class=\"dataframe\">\n  <thead>\n    <tr style=\"text-align: right;\">\n      <th></th>\n      <th>FamilySize</th>\n      <th>Survived</th>\n    </tr>\n  </thead>\n  <tbody>\n    <tr>\n      <th>3</th>\n      <td>4</td>\n      <td>0.724138</td>\n    </tr>\n    <tr>\n      <th>2</th>\n      <td>3</td>\n      <td>0.578431</td>\n    </tr>\n    <tr>\n      <th>1</th>\n      <td>2</td>\n      <td>0.552795</td>\n    </tr>\n    <tr>\n      <th>6</th>\n      <td>7</td>\n      <td>0.333333</td>\n    </tr>\n    <tr>\n      <th>0</th>\n      <td>1</td>\n      <td>0.303538</td>\n    </tr>\n    <tr>\n      <th>4</th>\n      <td>5</td>\n      <td>0.200000</td>\n    </tr>\n    <tr>\n      <th>5</th>\n      <td>6</td>\n      <td>0.136364</td>\n    </tr>\n    <tr>\n      <th>7</th>\n      <td>8</td>\n      <td>0.000000</td>\n    </tr>\n    <tr>\n      <th>8</th>\n      <td>11</td>\n      <td>0.000000</td>\n    </tr>\n  </tbody>\n</table>\n</div>"
          },
          "metadata": {}
        }
      ]
    },
    {
      "metadata": {
        "_cell_guid": "ad2cf334-0b48-434e-9e13-2848ff927486",
        "_uuid": "86e6d46461a1ab01df4ee017af33a42dfa0de99a"
      },
      "cell_type": "markdown",
      "source": "## Create feature \"IsAlone\""
    },
    {
      "metadata": {
        "_cell_guid": "974f2813-3cf5-484f-bf05-9d33335a59a5",
        "_uuid": "66ab4a045b9051040ddb55902782b8b4f6287862",
        "trusted": true
      },
      "cell_type": "code",
      "source": "for dataset in combine:\n    dataset['IsAlone'] = 0\n    dataset.loc[dataset['FamilySize'] == 1, 'IsAlone'] = 1\n\ntrain_df[[\n    'IsAlone', \n    'Survived',\n]]\\\n.groupby(['IsAlone'], as_index=False)\\\n.mean()",
      "execution_count": 27,
      "outputs": [
        {
          "output_type": "execute_result",
          "execution_count": 27,
          "data": {
            "text/plain": "   IsAlone  Survived\n0        0  0.505650\n1        1  0.303538",
            "text/html": "<div>\n<style>\n    .dataframe thead tr:only-child th {\n        text-align: right;\n    }\n\n    .dataframe thead th {\n        text-align: left;\n    }\n\n    .dataframe tbody tr th {\n        vertical-align: top;\n    }\n</style>\n<table border=\"1\" class=\"dataframe\">\n  <thead>\n    <tr style=\"text-align: right;\">\n      <th></th>\n      <th>IsAlone</th>\n      <th>Survived</th>\n    </tr>\n  </thead>\n  <tbody>\n    <tr>\n      <th>0</th>\n      <td>0</td>\n      <td>0.505650</td>\n    </tr>\n    <tr>\n      <th>1</th>\n      <td>1</td>\n      <td>0.303538</td>\n    </tr>\n  </tbody>\n</table>\n</div>"
          },
          "metadata": {}
        }
      ]
    },
    {
      "metadata": {
        "_cell_guid": "6638d307-7303-44e5-a74e-5ac338444683",
        "_uuid": "8bba06e1135511e2bd03b0237f8e429de5350c98",
        "trusted": true
      },
      "cell_type": "code",
      "source": "train_df = train_df.drop(['Parch', 'SibSp', 'FamilySize'], axis=1)\ntest_df = test_df.drop(['Parch', 'SibSp', 'FamilySize'], axis=1)\ncombine = [train_df, test_df]\n\ntrain_df.head()",
      "execution_count": 28,
      "outputs": [
        {
          "output_type": "execute_result",
          "execution_count": 28,
          "data": {
            "text/plain": "   Survived  Pclass  Sex  Age     Fare Embarked  Title  IsAlone\n0         0       3    0    1   7.2500        S      1        0\n1         1       1    1    2  71.2833        C      3        0\n2         1       3    1    1   7.9250        S      2        1\n3         1       1    1    2  53.1000        S      3        0\n4         0       3    0    2   8.0500        S      1        1",
            "text/html": "<div>\n<style>\n    .dataframe thead tr:only-child th {\n        text-align: right;\n    }\n\n    .dataframe thead th {\n        text-align: left;\n    }\n\n    .dataframe tbody tr th {\n        vertical-align: top;\n    }\n</style>\n<table border=\"1\" class=\"dataframe\">\n  <thead>\n    <tr style=\"text-align: right;\">\n      <th></th>\n      <th>Survived</th>\n      <th>Pclass</th>\n      <th>Sex</th>\n      <th>Age</th>\n      <th>Fare</th>\n      <th>Embarked</th>\n      <th>Title</th>\n      <th>IsAlone</th>\n    </tr>\n  </thead>\n  <tbody>\n    <tr>\n      <th>0</th>\n      <td>0</td>\n      <td>3</td>\n      <td>0</td>\n      <td>1</td>\n      <td>7.2500</td>\n      <td>S</td>\n      <td>1</td>\n      <td>0</td>\n    </tr>\n    <tr>\n      <th>1</th>\n      <td>1</td>\n      <td>1</td>\n      <td>1</td>\n      <td>2</td>\n      <td>71.2833</td>\n      <td>C</td>\n      <td>3</td>\n      <td>0</td>\n    </tr>\n    <tr>\n      <th>2</th>\n      <td>1</td>\n      <td>3</td>\n      <td>1</td>\n      <td>1</td>\n      <td>7.9250</td>\n      <td>S</td>\n      <td>2</td>\n      <td>1</td>\n    </tr>\n    <tr>\n      <th>3</th>\n      <td>1</td>\n      <td>1</td>\n      <td>1</td>\n      <td>2</td>\n      <td>53.1000</td>\n      <td>S</td>\n      <td>3</td>\n      <td>0</td>\n    </tr>\n    <tr>\n      <th>4</th>\n      <td>0</td>\n      <td>3</td>\n      <td>0</td>\n      <td>2</td>\n      <td>8.0500</td>\n      <td>S</td>\n      <td>1</td>\n      <td>1</td>\n    </tr>\n  </tbody>\n</table>\n</div>"
          },
          "metadata": {}
        }
      ]
    },
    {
      "metadata": {
        "_cell_guid": "c37377ff-f5ba-41cf-9227-157fcbc8cbe3",
        "_uuid": "47fbbe1e804b44bfcdab0dc9f746126c0bfdc2a0"
      },
      "cell_type": "markdown",
      "source": "## Create artificial feature combining \"Pclass and Age.\""
    },
    {
      "metadata": {
        "_cell_guid": "43a2bb47-14de-41da-b4ae-011632a93eb1",
        "_uuid": "63073cb9acccac1be66742be55a3a01791231dcd",
        "trusted": true
      },
      "cell_type": "code",
      "source": "for dataset in combine:\n    dataset['Age*Class'] = dataset.Age * dataset.Pclass\n\ntrain_df.loc[:, ['Age*Class', 'Age', 'Pclass']].head(10)",
      "execution_count": 29,
      "outputs": [
        {
          "output_type": "execute_result",
          "execution_count": 29,
          "data": {
            "text/plain": "   Age*Class  Age  Pclass\n0          3    1       3\n1          2    2       1\n2          3    1       3\n3          2    2       1\n4          6    2       3\n5          3    1       3\n6          3    3       1\n7          0    0       3\n8          3    1       3\n9          0    0       2",
            "text/html": "<div>\n<style>\n    .dataframe thead tr:only-child th {\n        text-align: right;\n    }\n\n    .dataframe thead th {\n        text-align: left;\n    }\n\n    .dataframe tbody tr th {\n        vertical-align: top;\n    }\n</style>\n<table border=\"1\" class=\"dataframe\">\n  <thead>\n    <tr style=\"text-align: right;\">\n      <th></th>\n      <th>Age*Class</th>\n      <th>Age</th>\n      <th>Pclass</th>\n    </tr>\n  </thead>\n  <tbody>\n    <tr>\n      <th>0</th>\n      <td>3</td>\n      <td>1</td>\n      <td>3</td>\n    </tr>\n    <tr>\n      <th>1</th>\n      <td>2</td>\n      <td>2</td>\n      <td>1</td>\n    </tr>\n    <tr>\n      <th>2</th>\n      <td>3</td>\n      <td>1</td>\n      <td>3</td>\n    </tr>\n    <tr>\n      <th>3</th>\n      <td>2</td>\n      <td>2</td>\n      <td>1</td>\n    </tr>\n    <tr>\n      <th>4</th>\n      <td>6</td>\n      <td>2</td>\n      <td>3</td>\n    </tr>\n    <tr>\n      <th>5</th>\n      <td>3</td>\n      <td>1</td>\n      <td>3</td>\n    </tr>\n    <tr>\n      <th>6</th>\n      <td>3</td>\n      <td>3</td>\n      <td>1</td>\n    </tr>\n    <tr>\n      <th>7</th>\n      <td>0</td>\n      <td>0</td>\n      <td>3</td>\n    </tr>\n    <tr>\n      <th>8</th>\n      <td>3</td>\n      <td>1</td>\n      <td>3</td>\n    </tr>\n    <tr>\n      <th>9</th>\n      <td>0</td>\n      <td>0</td>\n      <td>2</td>\n    </tr>\n  </tbody>\n</table>\n</div>"
          },
          "metadata": {}
        }
      ]
    },
    {
      "metadata": {
        "_cell_guid": "aa5cbedc-1206-46da-89d5-e590bf8deb8a",
        "_uuid": "e08116e87413439cdf0d383a517c9e948605ff41"
      },
      "cell_type": "markdown",
      "source": "## Complete missed values of feature \"Embarked\""
    },
    {
      "metadata": {
        "_cell_guid": "0544df49-9fdd-42a1-8ee6-6eed572dfac0",
        "_uuid": "217335889b0d4ea3fdfa37bbc9d0ece5a6dcdc73",
        "trusted": true
      },
      "cell_type": "code",
      "source": "freq_port = train_df.Embarked.dropna().mode()[0]\nfor dataset in combine:\n    dataset['Embarked'] = dataset['Embarked'].fillna(freq_port)\n    \ntrain_df[[\n    'Embarked', \n    'Survived',\n]]\\\n.groupby(['Embarked'], as_index=False)\\\n.mean()\\\n.sort_values(by='Survived', ascending=False)",
      "execution_count": 30,
      "outputs": [
        {
          "output_type": "execute_result",
          "execution_count": 30,
          "data": {
            "text/plain": "  Embarked  Survived\n0        C  0.553571\n1        Q  0.389610\n2        S  0.339009",
            "text/html": "<div>\n<style>\n    .dataframe thead tr:only-child th {\n        text-align: right;\n    }\n\n    .dataframe thead th {\n        text-align: left;\n    }\n\n    .dataframe tbody tr th {\n        vertical-align: top;\n    }\n</style>\n<table border=\"1\" class=\"dataframe\">\n  <thead>\n    <tr style=\"text-align: right;\">\n      <th></th>\n      <th>Embarked</th>\n      <th>Survived</th>\n    </tr>\n  </thead>\n  <tbody>\n    <tr>\n      <th>0</th>\n      <td>C</td>\n      <td>0.553571</td>\n    </tr>\n    <tr>\n      <th>1</th>\n      <td>Q</td>\n      <td>0.389610</td>\n    </tr>\n    <tr>\n      <th>2</th>\n      <td>S</td>\n      <td>0.339009</td>\n    </tr>\n  </tbody>\n</table>\n</div>"
          },
          "metadata": {}
        }
      ]
    },
    {
      "metadata": {
        "_cell_guid": "21c23fa3-8c22-4edf-8c5e-dcf51220f9a2",
        "_uuid": "53043e6d53ab74c7048c84af38acfdf2f0972ed9"
      },
      "cell_type": "markdown",
      "source": "## Convert feature \"Embarked\" to numeric"
    },
    {
      "metadata": {
        "_cell_guid": "34f3b27f-6f21-4048-9eb9-69057651808c",
        "_uuid": "125d412e0385b1cb85c03cacce1c417abfde581a",
        "trusted": true
      },
      "cell_type": "code",
      "source": "for dataset in combine:\n    dataset['Embarked'] = dataset['Embarked'].map( {'S': 0, 'C': 1, 'Q': 2} ).astype(int)\n\ntrain_df.head()",
      "execution_count": 31,
      "outputs": [
        {
          "output_type": "execute_result",
          "execution_count": 31,
          "data": {
            "text/plain": "   Survived  Pclass  Sex  Age     Fare  Embarked  Title  IsAlone  Age*Class\n0         0       3    0    1   7.2500         0      1        0          3\n1         1       1    1    2  71.2833         1      3        0          2\n2         1       3    1    1   7.9250         0      2        1          3\n3         1       1    1    2  53.1000         0      3        0          2\n4         0       3    0    2   8.0500         0      1        1          6",
            "text/html": "<div>\n<style>\n    .dataframe thead tr:only-child th {\n        text-align: right;\n    }\n\n    .dataframe thead th {\n        text-align: left;\n    }\n\n    .dataframe tbody tr th {\n        vertical-align: top;\n    }\n</style>\n<table border=\"1\" class=\"dataframe\">\n  <thead>\n    <tr style=\"text-align: right;\">\n      <th></th>\n      <th>Survived</th>\n      <th>Pclass</th>\n      <th>Sex</th>\n      <th>Age</th>\n      <th>Fare</th>\n      <th>Embarked</th>\n      <th>Title</th>\n      <th>IsAlone</th>\n      <th>Age*Class</th>\n    </tr>\n  </thead>\n  <tbody>\n    <tr>\n      <th>0</th>\n      <td>0</td>\n      <td>3</td>\n      <td>0</td>\n      <td>1</td>\n      <td>7.2500</td>\n      <td>0</td>\n      <td>1</td>\n      <td>0</td>\n      <td>3</td>\n    </tr>\n    <tr>\n      <th>1</th>\n      <td>1</td>\n      <td>1</td>\n      <td>1</td>\n      <td>2</td>\n      <td>71.2833</td>\n      <td>1</td>\n      <td>3</td>\n      <td>0</td>\n      <td>2</td>\n    </tr>\n    <tr>\n      <th>2</th>\n      <td>1</td>\n      <td>3</td>\n      <td>1</td>\n      <td>1</td>\n      <td>7.9250</td>\n      <td>0</td>\n      <td>2</td>\n      <td>1</td>\n      <td>3</td>\n    </tr>\n    <tr>\n      <th>3</th>\n      <td>1</td>\n      <td>1</td>\n      <td>1</td>\n      <td>2</td>\n      <td>53.1000</td>\n      <td>0</td>\n      <td>3</td>\n      <td>0</td>\n      <td>2</td>\n    </tr>\n    <tr>\n      <th>4</th>\n      <td>0</td>\n      <td>3</td>\n      <td>0</td>\n      <td>2</td>\n      <td>8.0500</td>\n      <td>0</td>\n      <td>1</td>\n      <td>1</td>\n      <td>6</td>\n    </tr>\n  </tbody>\n</table>\n</div>"
          },
          "metadata": {}
        }
      ]
    },
    {
      "metadata": {
        "_cell_guid": "2692ce0b-111e-4456-a398-c5df8c42760b",
        "_uuid": "9f63cf4770ec2f54f15356b1a2538088b1f77ee1"
      },
      "cell_type": "markdown",
      "source": "## Complete one missed value for feature \"Fare\""
    },
    {
      "metadata": {
        "_cell_guid": "8a84fd2d-9840-4077-b6d3-8fec18c1410a",
        "_uuid": "0245948cded151c7a4d16bba612c5354b01f94e1",
        "trusted": true
      },
      "cell_type": "code",
      "source": "test_df['Fare'].fillna(test_df['Fare'].dropna().median(), inplace=True)\ntest_df.head()",
      "execution_count": 32,
      "outputs": [
        {
          "output_type": "execute_result",
          "execution_count": 32,
          "data": {
            "text/plain": "   PassengerId  Pclass  Sex  Age     Fare  Embarked  Title  IsAlone  Age*Class\n0          892       3    0    2   7.8292         2      1        1          6\n1          893       3    1    2   7.0000         0      3        0          6\n2          894       2    0    3   9.6875         2      1        1          6\n3          895       3    0    1   8.6625         0      1        1          3\n4          896       3    1    1  12.2875         0      3        0          3",
            "text/html": "<div>\n<style>\n    .dataframe thead tr:only-child th {\n        text-align: right;\n    }\n\n    .dataframe thead th {\n        text-align: left;\n    }\n\n    .dataframe tbody tr th {\n        vertical-align: top;\n    }\n</style>\n<table border=\"1\" class=\"dataframe\">\n  <thead>\n    <tr style=\"text-align: right;\">\n      <th></th>\n      <th>PassengerId</th>\n      <th>Pclass</th>\n      <th>Sex</th>\n      <th>Age</th>\n      <th>Fare</th>\n      <th>Embarked</th>\n      <th>Title</th>\n      <th>IsAlone</th>\n      <th>Age*Class</th>\n    </tr>\n  </thead>\n  <tbody>\n    <tr>\n      <th>0</th>\n      <td>892</td>\n      <td>3</td>\n      <td>0</td>\n      <td>2</td>\n      <td>7.8292</td>\n      <td>2</td>\n      <td>1</td>\n      <td>1</td>\n      <td>6</td>\n    </tr>\n    <tr>\n      <th>1</th>\n      <td>893</td>\n      <td>3</td>\n      <td>1</td>\n      <td>2</td>\n      <td>7.0000</td>\n      <td>0</td>\n      <td>3</td>\n      <td>0</td>\n      <td>6</td>\n    </tr>\n    <tr>\n      <th>2</th>\n      <td>894</td>\n      <td>2</td>\n      <td>0</td>\n      <td>3</td>\n      <td>9.6875</td>\n      <td>2</td>\n      <td>1</td>\n      <td>1</td>\n      <td>6</td>\n    </tr>\n    <tr>\n      <th>3</th>\n      <td>895</td>\n      <td>3</td>\n      <td>0</td>\n      <td>1</td>\n      <td>8.6625</td>\n      <td>0</td>\n      <td>1</td>\n      <td>1</td>\n      <td>3</td>\n    </tr>\n    <tr>\n      <th>4</th>\n      <td>896</td>\n      <td>3</td>\n      <td>1</td>\n      <td>1</td>\n      <td>12.2875</td>\n      <td>0</td>\n      <td>3</td>\n      <td>0</td>\n      <td>3</td>\n    </tr>\n  </tbody>\n</table>\n</div>"
          },
          "metadata": {}
        }
      ]
    },
    {
      "metadata": {
        "_cell_guid": "21f92ced-1b1c-4756-a520-a0694d1525a1",
        "_uuid": "095e051e3f7b2d42ef992b2b04a4395ef09a6d9e",
        "trusted": true
      },
      "cell_type": "code",
      "source": "train_df['FareBand'] = pd.qcut(train_df['Fare'], 4)\ntrain_df[[\n    'FareBand', \n    'Survived',\n]]\\\n.groupby(['FareBand'], as_index=False)\\\n.mean()\\\n.sort_values(by='FareBand', ascending=True)",
      "execution_count": 33,
      "outputs": [
        {
          "output_type": "execute_result",
          "execution_count": 33,
          "data": {
            "text/plain": "          FareBand  Survived\n0   (-0.001, 7.91]  0.197309\n1   (7.91, 14.454]  0.303571\n2   (14.454, 31.0]  0.454955\n3  (31.0, 512.329]  0.581081",
            "text/html": "<div>\n<style>\n    .dataframe thead tr:only-child th {\n        text-align: right;\n    }\n\n    .dataframe thead th {\n        text-align: left;\n    }\n\n    .dataframe tbody tr th {\n        vertical-align: top;\n    }\n</style>\n<table border=\"1\" class=\"dataframe\">\n  <thead>\n    <tr style=\"text-align: right;\">\n      <th></th>\n      <th>FareBand</th>\n      <th>Survived</th>\n    </tr>\n  </thead>\n  <tbody>\n    <tr>\n      <th>0</th>\n      <td>(-0.001, 7.91]</td>\n      <td>0.197309</td>\n    </tr>\n    <tr>\n      <th>1</th>\n      <td>(7.91, 14.454]</td>\n      <td>0.303571</td>\n    </tr>\n    <tr>\n      <th>2</th>\n      <td>(14.454, 31.0]</td>\n      <td>0.454955</td>\n    </tr>\n    <tr>\n      <th>3</th>\n      <td>(31.0, 512.329]</td>\n      <td>0.581081</td>\n    </tr>\n  </tbody>\n</table>\n</div>"
          },
          "metadata": {}
        }
      ]
    },
    {
      "metadata": {
        "_cell_guid": "14cd3a22-150f-459a-9cef-8fcd2fd872a6",
        "_uuid": "23a3d19197f6f242809d9e9b99b8be1247399b3f",
        "trusted": true
      },
      "cell_type": "code",
      "source": "for dataset in combine:\n    dataset.loc[ dataset['Fare'] <= 7.91, 'Fare'] = 0\n    dataset.loc[(dataset['Fare'] > 7.91) & (dataset['Fare'] <= 14.454), 'Fare'] = 1\n    dataset.loc[(dataset['Fare'] > 14.454) & (dataset['Fare'] <= 31), 'Fare']   = 2\n    dataset.loc[ dataset['Fare'] > 31, 'Fare'] = 3\n    dataset['Fare'] = dataset['Fare'].astype(int)\n\ntrain_df = train_df.drop(['FareBand'], axis=1)\ncombine = [train_df, test_df]\n    \ntrain_df.head(10)",
      "execution_count": 34,
      "outputs": [
        {
          "output_type": "execute_result",
          "execution_count": 34,
          "data": {
            "text/plain": "   Survived  Pclass  Sex  Age  Fare  Embarked  Title  IsAlone  Age*Class\n0         0       3    0    1     0         0      1        0          3\n1         1       1    1    2     3         1      3        0          2\n2         1       3    1    1     1         0      2        1          3\n3         1       1    1    2     3         0      3        0          2\n4         0       3    0    2     1         0      1        1          6\n5         0       3    0    1     1         2      1        1          3\n6         0       1    0    3     3         0      1        1          3\n7         0       3    0    0     2         0      4        0          0\n8         1       3    1    1     1         0      3        0          3\n9         1       2    1    0     2         1      3        0          0",
            "text/html": "<div>\n<style>\n    .dataframe thead tr:only-child th {\n        text-align: right;\n    }\n\n    .dataframe thead th {\n        text-align: left;\n    }\n\n    .dataframe tbody tr th {\n        vertical-align: top;\n    }\n</style>\n<table border=\"1\" class=\"dataframe\">\n  <thead>\n    <tr style=\"text-align: right;\">\n      <th></th>\n      <th>Survived</th>\n      <th>Pclass</th>\n      <th>Sex</th>\n      <th>Age</th>\n      <th>Fare</th>\n      <th>Embarked</th>\n      <th>Title</th>\n      <th>IsAlone</th>\n      <th>Age*Class</th>\n    </tr>\n  </thead>\n  <tbody>\n    <tr>\n      <th>0</th>\n      <td>0</td>\n      <td>3</td>\n      <td>0</td>\n      <td>1</td>\n      <td>0</td>\n      <td>0</td>\n      <td>1</td>\n      <td>0</td>\n      <td>3</td>\n    </tr>\n    <tr>\n      <th>1</th>\n      <td>1</td>\n      <td>1</td>\n      <td>1</td>\n      <td>2</td>\n      <td>3</td>\n      <td>1</td>\n      <td>3</td>\n      <td>0</td>\n      <td>2</td>\n    </tr>\n    <tr>\n      <th>2</th>\n      <td>1</td>\n      <td>3</td>\n      <td>1</td>\n      <td>1</td>\n      <td>1</td>\n      <td>0</td>\n      <td>2</td>\n      <td>1</td>\n      <td>3</td>\n    </tr>\n    <tr>\n      <th>3</th>\n      <td>1</td>\n      <td>1</td>\n      <td>1</td>\n      <td>2</td>\n      <td>3</td>\n      <td>0</td>\n      <td>3</td>\n      <td>0</td>\n      <td>2</td>\n    </tr>\n    <tr>\n      <th>4</th>\n      <td>0</td>\n      <td>3</td>\n      <td>0</td>\n      <td>2</td>\n      <td>1</td>\n      <td>0</td>\n      <td>1</td>\n      <td>1</td>\n      <td>6</td>\n    </tr>\n    <tr>\n      <th>5</th>\n      <td>0</td>\n      <td>3</td>\n      <td>0</td>\n      <td>1</td>\n      <td>1</td>\n      <td>2</td>\n      <td>1</td>\n      <td>1</td>\n      <td>3</td>\n    </tr>\n    <tr>\n      <th>6</th>\n      <td>0</td>\n      <td>1</td>\n      <td>0</td>\n      <td>3</td>\n      <td>3</td>\n      <td>0</td>\n      <td>1</td>\n      <td>1</td>\n      <td>3</td>\n    </tr>\n    <tr>\n      <th>7</th>\n      <td>0</td>\n      <td>3</td>\n      <td>0</td>\n      <td>0</td>\n      <td>2</td>\n      <td>0</td>\n      <td>4</td>\n      <td>0</td>\n      <td>0</td>\n    </tr>\n    <tr>\n      <th>8</th>\n      <td>1</td>\n      <td>3</td>\n      <td>1</td>\n      <td>1</td>\n      <td>1</td>\n      <td>0</td>\n      <td>3</td>\n      <td>0</td>\n      <td>3</td>\n    </tr>\n    <tr>\n      <th>9</th>\n      <td>1</td>\n      <td>2</td>\n      <td>1</td>\n      <td>0</td>\n      <td>2</td>\n      <td>1</td>\n      <td>3</td>\n      <td>0</td>\n      <td>0</td>\n    </tr>\n  </tbody>\n</table>\n</div>"
          },
          "metadata": {}
        }
      ]
    },
    {
      "metadata": {
        "_cell_guid": "d4ccf7f7-4ca4-4d6c-8a15-82696ea127c2",
        "_uuid": "975f56d9d632d687b66757a84ad2bc04f91431cd"
      },
      "cell_type": "markdown",
      "source": "# Model, predict and solve\nBinary classification"
    },
    {
      "metadata": {
        "_cell_guid": "53bc326e-4907-406a-ae6f-fedc600c8bc4",
        "_uuid": "0e25145146577606751eb06c93722b40cc4dd1d9",
        "trusted": true
      },
      "cell_type": "code",
      "source": "X_train = train_df.drop(\"Survived\", axis=1)\nY_train = train_df[\"Survived\"]\nX_test  = test_df.drop(\"PassengerId\", axis=1).copy()\nX_train.shape, Y_train.shape, X_test.shape",
      "execution_count": 35,
      "outputs": [
        {
          "output_type": "execute_result",
          "execution_count": 35,
          "data": {
            "text/plain": "((891, 8), (891,), (418, 8))"
          },
          "metadata": {}
        }
      ]
    },
    {
      "metadata": {
        "_cell_guid": "f602c601-aaaf-463c-9b3d-5782f63fce5d",
        "_uuid": "ed2116e0c6ad6339a1f5748cce1458f568760c7e"
      },
      "cell_type": "markdown",
      "source": "## Logistic regression\n logit regression, maximum-entropy classification (MaxEnt) or the log-linear classifier"
    },
    {
      "metadata": {
        "_cell_guid": "1a3d67cb-2dbf-428e-b590-63c4478b0070",
        "_uuid": "d3fc4c61bb5969c8433fa45c54c99c0c38323bc8",
        "trusted": true
      },
      "cell_type": "code",
      "source": "models = []\n\nmodels.append({\n    'classifier': linear_model.LogisticRegression,\n    'name': 'Logistic Regression',\n})\nmodels.append({\n    'classifier': svm.SVC,\n    'name': 'Support Vector Machines',\n})\nmodels.append({\n    'classifier': neighbors.KNeighborsClassifier,\n    'name': 'k-Nearest Neighbors',\n    'args': {\n        'n_neighbors': 3,\n    },\n})\nmodels.append({\n    'classifier': naive_bayes.GaussianNB,\n    'name': 'Gaussian Naive Bayes',\n})\nmodels.append({\n    'classifier': linear_model.Perceptron,\n    'name': 'Perceptron',\n    'args': {\n        'max_iter': 5,\n        'tol': None,\n    },\n})\nmodels.append({\n    'classifier': svm.LinearSVC,\n    'name': 'Linear SVC',\n})\nmodels.append({\n    'classifier': linear_model.SGDClassifier,\n    'name': 'Stochastic Gradient Descent',\n    'args': {\n        'max_iter': 5,\n        'tol': None,\n    },\n})\nmodels.append({\n    'classifier': tree.DecisionTreeClassifier,\n    'name': 'Decision Tree',\n})\nmodels.append({\n    'classifier': ensemble.RandomForestClassifier,\n    'name': 'Random Forest',\n    'args': {\n        'n_estimators': 100,\n    },\n})\n\n#acc_log",
      "execution_count": 36,
      "outputs": []
    },
    {
      "metadata": {
        "_cell_guid": "7788b3be-bc6b-4675-90df-e72ebf088533",
        "_uuid": "1149f38569d8d92bcdffc700ed8496239960d593"
      },
      "cell_type": "markdown",
      "source": "## All Models"
    },
    {
      "metadata": {
        "_cell_guid": "f3235bcc-7bde-4104-ac09-b8e09fa5f7ed",
        "_uuid": "e81b8dcc1093f913bf9e559bcc40ca78a72f276d",
        "trusted": true
      },
      "cell_type": "code",
      "source": "def process_model(model_desc):\n    Model = model_desc['classifier']\n    model = Model(**model_desc.get('args', {}))\n    model.fit(X_train, Y_train)\n    Y_pred = model.predict(X_test)\n    accuracy = round(model.score(X_train, Y_train) * 100, 2)\n    return {\n        'name': model_desc['name'],\n        'accuracy': accuracy,\n        'model': model,\n    }\n\nmodels_result = list(map(process_model, models))\nmodels_result = sorted(models_result, key=lambda res: res['accuracy'], reverse=True)\n\n#print(models_result)\n\n# plot bars\nmodels_result_df = pd.DataFrame(models_result, columns=['accuracy', 'name'])\nax = sns.barplot(data=models_result_df, x='accuracy', y='name')\nax.set(xlim=(0, 100))\n\n# show table\nmodels_result_df\n\n## TODO:\n# DONE: use pandas for visualize table\n# DONE: draw bar of accuracy of classifiers\n# DONE: use params\n# - use tensorflow for full-convolutional deep NN",
      "execution_count": 37,
      "outputs": [
        {
          "output_type": "execute_result",
          "execution_count": 37,
          "data": {
            "text/plain": "   accuracy                         name\n0     86.76                Decision Tree\n1     86.76                Random Forest\n2     84.74          k-Nearest Neighbors\n3     83.84      Support Vector Machines\n4     80.36          Logistic Regression\n5     79.12                   Linear SVC\n6     78.00                   Perceptron\n7     77.78  Stochastic Gradient Descent\n8     72.28         Gaussian Naive Bayes",
            "text/html": "<div>\n<style>\n    .dataframe thead tr:only-child th {\n        text-align: right;\n    }\n\n    .dataframe thead th {\n        text-align: left;\n    }\n\n    .dataframe tbody tr th {\n        vertical-align: top;\n    }\n</style>\n<table border=\"1\" class=\"dataframe\">\n  <thead>\n    <tr style=\"text-align: right;\">\n      <th></th>\n      <th>accuracy</th>\n      <th>name</th>\n    </tr>\n  </thead>\n  <tbody>\n    <tr>\n      <th>0</th>\n      <td>86.76</td>\n      <td>Decision Tree</td>\n    </tr>\n    <tr>\n      <th>1</th>\n      <td>86.76</td>\n      <td>Random Forest</td>\n    </tr>\n    <tr>\n      <th>2</th>\n      <td>84.74</td>\n      <td>k-Nearest Neighbors</td>\n    </tr>\n    <tr>\n      <th>3</th>\n      <td>83.84</td>\n      <td>Support Vector Machines</td>\n    </tr>\n    <tr>\n      <th>4</th>\n      <td>80.36</td>\n      <td>Logistic Regression</td>\n    </tr>\n    <tr>\n      <th>5</th>\n      <td>79.12</td>\n      <td>Linear SVC</td>\n    </tr>\n    <tr>\n      <th>6</th>\n      <td>78.00</td>\n      <td>Perceptron</td>\n    </tr>\n    <tr>\n      <th>7</th>\n      <td>77.78</td>\n      <td>Stochastic Gradient Descent</td>\n    </tr>\n    <tr>\n      <th>8</th>\n      <td>72.28</td>\n      <td>Gaussian Naive Bayes</td>\n    </tr>\n  </tbody>\n</table>\n</div>"
          },
          "metadata": {}
        },
        {
          "output_type": "display_data",
          "data": {
            "text/plain": "<matplotlib.figure.Figure at 0x7fadc1097e48>",
            "image/png": "[encoded data removed]"
          },
          "metadata": {}
        }
      ]
    },
    {
      "metadata": {
        "_cell_guid": "a650a472-f4a3-413e-87d5-88306ea4945d",
        "collapsed": true,
        "_uuid": "ed7a28d1d91d9295a144c603ac5e6332b77f3dd7"
      },
      "cell_type": "markdown",
      "source": "# Submit result\nget the best model and submit the result"
    },
    {
      "metadata": {
        "_kg_hide-output": false,
        "_uuid": "241cdb00a141819c0b9d73333926b6501c015a65",
        "_cell_guid": "bc6415b2-b8eb-4b3a-b990-784852e0990f",
        "collapsed": true,
        "_kg_hide-input": false,
        "trusted": true
      },
      "cell_type": "code",
      "source": "# submission.to_csv('../output/submission.csv', index=False)\nthe_best_result = models_result[0]\nY_pred = the_best_result['model'].predict(X_test)\n\nsubmission = pd.DataFrame({\n    'PassengerId': test_df['PassengerId'],\n    'Survived': Y_pred,\n})\nsubmission.to_csv('submission.csv', index=False)",
      "execution_count": 38,
      "outputs": []
    }
  ],
  "metadata": {
    "kernelspec": {
      "display_name": "Python 3",
      "language": "python",
      "name": "python3"
    },
    "language_info": {
      "name": "python",
      "version": "3.6.3",
      "mimetype": "text/x-python",
      "codemirror_mode": {
        "name": "ipython",
        "version": 3
      },
      "pygments_lexer": "ipython3",
      "nbconvert_exporter": "python",
      "file_extension": ".py"
    }
  },
  "nbformat": 4,
  "nbformat_minor": 1
}