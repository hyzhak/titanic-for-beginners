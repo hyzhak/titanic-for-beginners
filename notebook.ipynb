{
  "cells": [
    {
      "metadata": {
        "_cell_guid": "093f9727-e09a-470c-a7b9-552bc89cea45",
        "_uuid": "3f388a9d660c32cab96fde199fdb63ec99ceae2d"
      },
      "cell_type": "markdown",
      "source": "# Titanic for beginners\nit is basic introduction to Kaggle.\n\n## Workflow\n1. Import Necessary Libraries\n2. Acquire training and testing data.\n3. Analyze, Visualize data\n  1. Outlets (errors or possibly innacurate values) ?\n  2. Create new feature?\n4. Clearning data\n5. Choosing the Best Model\n6. Creating Submission File"
    },
    {
      "metadata": {
        "_cell_guid": "301ad18e-8d8e-41d7-9b0f-ca911173e895",
        "_uuid": "fb88b7c3f081c0c1252206f87f9a10611395f470"
      },
      "cell_type": "markdown",
      "source": "## 1. Import Necessary Libraries"
    },
    {
      "metadata": {
        "_cell_guid": "da15ab30-adc6-4b06-8dbc-3ec73e0a4477",
        "collapsed": true,
        "_uuid": "9608c73358c926c608438235067017fa75293761",
        "trusted": true
      },
      "cell_type": "code",
      "source": "import matplotlib.pyplot as plt\nimport numpy as np\nimport pandas as pd\nimport seaborn as sns\nimport sklearn\nimport subprocess\n\n%matplotlib inline",
      "execution_count": 1,
      "outputs": []
    },
    {
      "metadata": {
        "_cell_guid": "15827b55-89e5-4e9d-a6b9-b770e8a831cf",
        "_uuid": "3f1fa120cf078e86592b861c4a03669f797a8eee"
      },
      "cell_type": "markdown",
      "source": "## 2. Acquire training and testing data"
    },
    {
      "metadata": {
        "_cell_guid": "49c97ff1-709e-4829-ad0a-687cc0077a13",
        "_uuid": "4ebed5528fff5db1901d452e0c9df8e9be8d1616",
        "trusted": true
      },
      "cell_type": "code",
      "source": "train_df = pd.read_csv('../input/train.csv')\ntest_df = pd.read_csv('../input/test.csv')\ncombine = [train_df, test_df]",
      "execution_count": 2,
      "outputs": []
    },
    {
      "metadata": {
        "trusted": true,
        "collapsed": true,
        "_uuid": "e2dec6614981f98bf2f92fda5aae098249b40410"
      },
      "cell_type": "code",
      "source": "",
      "execution_count": null,
      "outputs": []
    }
  ],
  "metadata": {
    "language_info": {
      "name": "python",
      "version": "3.6.3",
      "mimetype": "text/x-python",
      "codemirror_mode": {
        "name": "ipython",
        "version": 3
      },
      "pygments_lexer": "ipython3",
      "nbconvert_exporter": "python",
      "file_extension": ".py"
    },
    "kernelspec": {
      "display_name": "Python 3",
      "language": "python",
      "name": "python3"
    }
  },
  "nbformat": 4,
  "nbformat_minor": 1
}